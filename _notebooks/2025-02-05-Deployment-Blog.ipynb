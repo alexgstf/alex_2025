{
 "cells": [
  {
   "cell_type": "raw",
   "metadata": {
    "vscode": {
     "languageId": "raw"
    }
   },
   "source": [
    "---\n",
    "toc: true\n",
    "comments: false\n",
    "layout: post\n",
    "title: AWS  \n",
    "description: Quick launch into Flask, sending and receiving data from a web server.\n",
    "type: ccc\n",
    "---"
   ]
  },
  {
   "cell_type": "markdown",
   "metadata": {},
   "source": [
    "1. Login\n",
    "2. Clone your repo\n",
    "3. In your project directory,\n",
    "4. - create a .env file with passwords\n",
    "5. - run ./scripts/db_init.py\n",
    "6. 4. In your repo run Docker commands\n",
    "7. - docker-compose build\n",
    "8. - docker-compose up -d\n",
    "9. 5. Test your server, curl provides text response of your requested page\n",
    "10. - docker ps # look for you application and port\n",
    "11. - curl localhost:8087 # remember 8087 is mine, mine. mine"
   ]
  }
 ],
 "metadata": {
  "language_info": {
   "name": "python"
  }
 },
 "nbformat": 4,
 "nbformat_minor": 2
}
