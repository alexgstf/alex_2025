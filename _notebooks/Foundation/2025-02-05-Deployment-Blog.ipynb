{
 "cells": [
  {
   "cell_type": "raw",
   "metadata": {
    "vscode": {
     "languageId": "raw"
    }
   },
   "source": [
    "---\n",
    "toc: true\n",
    "comments: false\n",
    "layout: post\n",
    "title: AWS  \n",
    "description: Quick launch into Flask, sending and receiving data from a web server.\n",
    "---"
   ]
  },
  {
   "cell_type": "markdown",
   "metadata": {},
   "source": [
    "1. Login\n",
    "![](/alex_2025/images/notebooks/foundation/login.png)\n",
    "2. Clone your repo\n",
    "![](/alex_2025/images/notebooks/foundation/gitclone.png)\n",
    "3. In your project directory,\n",
    "- create a .env file with passwords\n",
    "- run ./scripts/db_init.py\n",
    "![](/alex_2025/images/notebooks/foundation/envanddbinit.png)\n",
    "4. In your repo run Docker commands\n",
    "- docker-compose build\n",
    "![](/alex_2025/images/notebooks/foundation/dockercompose.png)\n",
    "- docker-compose up -d\n",
    "![](/alex_2025/images/notebooks/foundation/dockercompose2.png)\n",
    "5. Test your server, curl provides text response of your requested page\n",
    "- docker ps # look for you application and port\n",
    "![](/alex_2025/images/notebooks/foundation/dockerps.png)\n",
    "- curl localhost:8502\n",
    "![](/alex_2025/images/notebooks/foundation/curl.png)"
   ]
  }
 ],
 "metadata": {
  "language_info": {
   "name": "python"
  }
 },
 "nbformat": 4,
 "nbformat_minor": 2
}
