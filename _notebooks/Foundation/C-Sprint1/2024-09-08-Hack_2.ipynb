{
 "cells": [
  {
   "cell_type": "markdown",
   "metadata": {},
   "source": [
    "---\n",
    "layout: post\n",
    "title:  HTML Cells Frontend Hacks\n",
    "description: Using HTML magic method in Python\n",
    "permalink: /hacks/hack2\n",
    "comments: true\n",
    "---\n",
    "\n",
    "{% include nav/hacks.html %}"
   ]
  },
  {
   "cell_type": "markdown",
   "metadata": {
    "vscode": {
     "languageId": "plaintext"
    }
   },
   "source": [
    "### Frontend Hack"
   ]
  },
  {
   "cell_type": "code",
   "execution_count": 11,
   "metadata": {
    "vscode": {
     "languageId": "html"
    }
   },
   "outputs": [
    {
     "data": {
      "text/html": [
       "\n",
       "<html>\n",
       "    <head>\n",
       "        <style>\n",
       "            * {\n",
       "                font-family: 'Trebuchet MS', 'Lucida Sans Unicode', 'Lucida Grande', 'Lucida Sans', Arial, sans-serif;\n",
       "            }\n",
       "            .cont {\n",
       "                color: black;\n",
       "                background-color: gray;\n",
       "                padding: 10px;\n",
       "                border: 5px solid black;\n",
       "            }\n",
       "            p {\n",
       "                display: inline;\n",
       "            }\n",
       "            button {\n",
       "                background-color: white;\n",
       "                border: 2px solid black;\n",
       "                color: black;\n",
       "                text-align: center;\n",
       "                display: inline;\n",
       "            }\n",
       "            button:hover {\n",
       "                background-color: gray;\n",
       "            }\n",
       "            p a button {\n",
       "                padding-inline: 25px;\n",
       "            }\n",
       "            a {\n",
       "                color:blue;\n",
       "            }\n",
       "            a:hover{\n",
       "                color:darkblue\n",
       "            }\n",
       "        </style>\n",
       "    </head>\n",
       "    <body>\n",
       "        <div class=\"cont\">\n",
       "            <p> Welcome to my projects page </p> <br>\n",
       "            <button> Details </button>\n",
       "        </div> <br>\n",
       "        <div class=\"cont\">\n",
       "            <a href=\"https://example.com\"> Project 1 </a> <br>\n",
       "            <a href=\"https://example.com\"> Project 2 </a> <br>\n",
       "            <p> More projects will go here </p>\n",
       "        </div>\n",
       "    </body>\n",
       "</html>\n"
      ],
      "text/plain": [
       "<IPython.core.display.HTML object>"
      ]
     },
     "metadata": {},
     "output_type": "display_data"
    }
   ],
   "source": [
    "%%html\n",
    "\n",
    "<html>\n",
    "    <head>\n",
    "        <style>\n",
    "            * {\n",
    "                font-family: 'Trebuchet MS', 'Lucida Sans Unicode', 'Lucida Grande', 'Lucida Sans', Arial, sans-serif;\n",
    "            }\n",
    "            .cont {\n",
    "                color: black;\n",
    "                background-color: gray;\n",
    "                padding: 10px;\n",
    "                border: 5px solid black;\n",
    "            }\n",
    "            p {\n",
    "                display: inline;\n",
    "            }\n",
    "            button {\n",
    "                background-color: white;\n",
    "                border: 2px solid black;\n",
    "                color: black;\n",
    "                text-align: center;\n",
    "                display: inline;\n",
    "            }\n",
    "            button:hover {\n",
    "                background-color: gray;\n",
    "            }\n",
    "            p a button {\n",
    "                padding-inline: 25px;\n",
    "            }\n",
    "            a {\n",
    "                color:blue;\n",
    "            }\n",
    "            a:hover{\n",
    "                color:darkblue\n",
    "            }\n",
    "        </style>\n",
    "    </head>\n",
    "    <body>\n",
    "        <div class=\"cont\">\n",
    "            <p> Welcome to my projects page </p> <br>\n",
    "            <button> Details </button>\n",
    "        </div> <br>\n",
    "        <div class=\"cont\">\n",
    "            <a href=\"https://example.com\"> Project 1 </a> <br>\n",
    "            <a href=\"https://example.com\"> Project 2 </a> <br>\n",
    "            <p> More projects will go here </p>\n",
    "        </div>\n",
    "    </body>\n",
    "</html>"
   ]
  },
  {
   "cell_type": "markdown",
   "metadata": {},
   "source": [
    "### Adding Data To Table"
   ]
  },
  {
   "cell_type": "code",
   "execution_count": 10,
   "metadata": {
    "vscode": {
     "languageId": "html"
    }
   },
   "outputs": [
    {
     "data": {
      "text/html": [
       "<div id=\"userDetailsContainer\" style=\"color: white;\">\n",
       "    <h3>Enter Your Details</h3>\n",
       "    <input type=\"text\" id=\"nameInput\" placeholder=\"Name\" />\n",
       "    <input type=\"number\" id=\"ageInput\" placeholder=\"Age\" />\n",
       "    <input type=\"text\" id=\"subjectInput\" placeholder=\"Favorite Subject\" />\n",
       "    <button id=\"addButton\">Add</button>\n",
       "    <table id=\"infoTable\" border=\"1\" style=\"margin-top: 10px; color: white;\">\n",
       "        <thead>\n",
       "            <tr>\n",
       "                <th>Name</th>\n",
       "                <th>Age</th>\n",
       "                <th>Favorite Subject</th>\n",
       "            </tr>\n",
       "        </thead>\n",
       "        <tbody>\n",
       "        </tbody>\n",
       "    </table>\n",
       "</div>\n",
       "\n",
       "<script>\n",
       "    document.getElementById('addButton').onclick = function() {\n",
       "        const name = document.getElementById('nameInput').value;\n",
       "        const age = document.getElementById('ageInput').value;\n",
       "        const subject = document.getElementById('subjectInput').value;\n",
       "\n",
       "        if (name && age && subject) {\n",
       "            const table = document.getElementById('infoTable').getElementsByTagName('tbody')[0];\n",
       "            const newRow = table.insertRow();\n",
       "\n",
       "            newRow.insertCell(0).innerText = name;\n",
       "            newRow.insertCell(1).innerText = age;\n",
       "            newRow.insertCell(2).innerText = subject;\n",
       "\n",
       "            // Clear the input fields\n",
       "            document.getElementById('nameInput').value = '';\n",
       "            document.getElementById('ageInput').value = '';\n",
       "            document.getElementById('subjectInput').value = '';\n",
       "        } else {\n",
       "            alert('Please fill out all fields.');\n",
       "        }\n",
       "    };\n",
       "</script>\n"
      ],
      "text/plain": [
       "<IPython.core.display.HTML object>"
      ]
     },
     "metadata": {},
     "output_type": "display_data"
    }
   ],
   "source": [
    "%%html\n",
    "<div id=\"userDetailsContainer\" style=\"color: white;\">\n",
    "    <h3>Enter Your Details</h3>\n",
    "    <input type=\"text\" id=\"nameInput\" placeholder=\"Name\" />\n",
    "    <input type=\"number\" id=\"ageInput\" placeholder=\"Age\" />\n",
    "    <input type=\"text\" id=\"subjectInput\" placeholder=\"Favorite Subject\" />\n",
    "    <button id=\"addButton\">Add</button>\n",
    "    <table id=\"infoTable\" border=\"1\" style=\"margin-top: 10px; color: white;\">\n",
    "        <thead>\n",
    "            <tr>\n",
    "                <th>Name</th>\n",
    "                <th>Age</th>\n",
    "                <th>Favorite Subject</th>\n",
    "            </tr>\n",
    "        </thead>\n",
    "        <tbody>\n",
    "        </tbody>\n",
    "    </table>\n",
    "</div>\n",
    "\n",
    "<script>\n",
    "    document.getElementById('addButton').onclick = function() {\n",
    "        const name = document.getElementById('nameInput').value;\n",
    "        const age = document.getElementById('ageInput').value;\n",
    "        const subject = document.getElementById('subjectInput').value;\n",
    "\n",
    "        if (name && age && subject) {\n",
    "            const table = document.getElementById('infoTable').getElementsByTagName('tbody')[0];\n",
    "            const newRow = table.insertRow();\n",
    "\n",
    "            newRow.insertCell(0).innerText = name;\n",
    "            newRow.insertCell(1).innerText = age;\n",
    "            newRow.insertCell(2).innerText = subject;\n",
    "\n",
    "            // Clear the input fields\n",
    "            document.getElementById('nameInput').value = '';\n",
    "            document.getElementById('ageInput').value = '';\n",
    "            document.getElementById('subjectInput').value = '';\n",
    "        } else {\n",
    "            alert('Please fill out all fields.');\n",
    "        }\n",
    "    };\n",
    "</script>\n"
   ]
  },
  {
   "cell_type": "markdown",
   "metadata": {},
   "source": [
    "### Calculator"
   ]
  },
  {
   "cell_type": "code",
   "execution_count": 9,
   "metadata": {
    "vscode": {
     "languageId": "html"
    }
   },
   "outputs": [
    {
     "data": {
      "text/html": [
       "\n",
       "<div id=\"calculator\">\n",
       "    <h3>Calculator</h3>\n",
       "    <input type=\"number\" id=\"num1\" placeholder=\"First Number\" />\n",
       "    <input type=\"number\" id=\"num2\" placeholder=\"Second Number\" />\n",
       "    <br><br>\n",
       "    <button onclick=\"calculate('+')\">Add</button>\n",
       "    <button onclick=\"calculate('-')\">Subtract</button>\n",
       "    <button onclick=\"calculate('*')\">Multiply</button>\n",
       "    <button onclick=\"calculate('/')\">Divide</button>\n",
       "    <br><br>\n",
       "    <h4>Result: <span id=\"result\">0</span></h4>\n",
       "</div>\n",
       "\n",
       "<script>\n",
       "    function calculate(operation) {\n",
       "        const num1 = parseFloat(document.getElementById('num1').value);\n",
       "        const num2 = parseFloat(document.getElementById('num2').value);\n",
       "        let result;\n",
       "\n",
       "        if (isNaN(num1) || isNaN(num2)) {\n",
       "            alert('Please enter valid numbers.');\n",
       "            return;\n",
       "        }\n",
       "\n",
       "        switch (operation) {\n",
       "            case '+':\n",
       "                result = num1 + num2;\n",
       "                break;\n",
       "            case '-':\n",
       "                result = num1 - num2;\n",
       "                break;\n",
       "            case '*':\n",
       "                result = num1 * num2;\n",
       "                break;\n",
       "            case '/':\n",
       "                if (num2 === 0) {\n",
       "                    alert('Cannot divide by zero.');\n",
       "                    return;\n",
       "                }\n",
       "                result = num1 / num2;\n",
       "                break;\n",
       "            default:\n",
       "                result = 0;\n",
       "        }\n",
       "\n",
       "        document.getElementById('result').innerText = result;\n",
       "    }\n",
       "</script>\n"
      ],
      "text/plain": [
       "<IPython.core.display.HTML object>"
      ]
     },
     "metadata": {},
     "output_type": "display_data"
    }
   ],
   "source": [
    "%%html\n",
    "\n",
    "<div id=\"calculator\">\n",
    "    <h3>Calculator</h3>\n",
    "    <input type=\"number\" id=\"num1\" placeholder=\"First Number\" />\n",
    "    <input type=\"number\" id=\"num2\" placeholder=\"Second Number\" />\n",
    "    <br><br>\n",
    "    <button onclick=\"calculate('+')\">Add</button>\n",
    "    <button onclick=\"calculate('-')\">Subtract</button>\n",
    "    <button onclick=\"calculate('*')\">Multiply</button>\n",
    "    <button onclick=\"calculate('/')\">Divide</button>\n",
    "    <br><br>\n",
    "    <h4>Result: <span id=\"result\">0</span></h4>\n",
    "</div>\n",
    "\n",
    "<script>\n",
    "    function calculate(operation) {\n",
    "        const num1 = parseFloat(document.getElementById('num1').value);\n",
    "        const num2 = parseFloat(document.getElementById('num2').value);\n",
    "        let result;\n",
    "\n",
    "        if (isNaN(num1) || isNaN(num2)) {\n",
    "            alert('Please enter valid numbers.');\n",
    "            return;\n",
    "        }\n",
    "\n",
    "        switch (operation) {\n",
    "            case '+':\n",
    "                result = num1 + num2;\n",
    "                break;\n",
    "            case '-':\n",
    "                result = num1 - num2;\n",
    "                break;\n",
    "            case '*':\n",
    "                result = num1 * num2;\n",
    "                break;\n",
    "            case '/':\n",
    "                if (num2 === 0) {\n",
    "                    alert('Cannot divide by zero.');\n",
    "                    return;\n",
    "                }\n",
    "                result = num1 / num2;\n",
    "                break;\n",
    "            default:\n",
    "                result = 0;\n",
    "        }\n",
    "\n",
    "        document.getElementById('result').innerText = result;\n",
    "    }\n",
    "</script>"
   ]
  }
 ],
 "metadata": {
  "kernelspec": {
   "display_name": "venv",
   "language": "python",
   "name": "python3"
  },
  "language_info": {
   "codemirror_mode": {
    "name": "ipython",
    "version": 3
   },
   "file_extension": ".py",
   "mimetype": "text/x-python",
   "name": "python",
   "nbconvert_exporter": "python",
   "pygments_lexer": "ipython3",
   "version": "3.12.3"
  }
 },
 "nbformat": 4,
 "nbformat_minor": 2
}
