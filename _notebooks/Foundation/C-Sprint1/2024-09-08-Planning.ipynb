{
 "cells": [
  {
   "cell_type": "markdown",
   "metadata": {},
   "source": [
    "---\n",
    "layout: post\n",
    "title:  Planning Document\n",
    "description: Here is where I will document my attempts and accomplishments on my Comp Sci journey, as well as ideas for future projects.\n",
    "permalink: /planning\n",
    "comments: true\n",
    "---"
   ]
  },
  {
   "cell_type": "markdown",
   "metadata": {},
   "source": [
    "### Attempts\n",
    "\n",
    "- Tried to adjust the styling on home page, less compact \n",
    "- Change position of images on the about me page\n",
    "- Couldn't get newspaper library to work when running code on first hack\n",
    "\n",
    "### Accomplishments\n",
    "\n",
    "- Successfully changed spacing on home page using classes and properties in css\n",
    "- Used display and margin properties to adjust image position\n",
    "- Installed missing libraries and displayed news pages in notebook"
   ]
  }
 ],
 "metadata": {
  "kernelspec": {
   "display_name": "venv",
   "language": "python",
   "name": "python3"
  },
  "language_info": {
   "codemirror_mode": {
    "name": "ipython",
    "version": 3
   },
   "file_extension": ".py",
   "mimetype": "text/x-python",
   "name": "python",
   "nbconvert_exporter": "python",
   "pygments_lexer": "ipython3",
   "version": "3.10.12"
  }
 },
 "nbformat": 4,
 "nbformat_minor": 2
}
