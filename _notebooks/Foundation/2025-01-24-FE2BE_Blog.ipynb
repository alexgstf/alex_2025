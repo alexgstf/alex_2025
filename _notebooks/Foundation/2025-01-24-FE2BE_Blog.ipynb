{
 "cells": [
  {
   "cell_type": "markdown",
   "metadata": {},
   "source": [
    "---\n",
    "title: Frontend to Backend Review Blog\n",
    "layout: post\n",
    "description: Review for Study Buddy - Profiles\n",
    "permalink: /fe2beblog\n",
    "---"
   ]
  },
  {
   "cell_type": "markdown",
   "metadata": {},
   "source": []
  },
  {
   "cell_type": "markdown",
   "metadata": {},
   "source": [
    "**StudyBuddy is a dynamic platform designed to support students in their academic journey. Whether you're tackling math, science, history, or any other subject, StudyBuddy is here to help you succeed. Our goal is to make learning fun, engaging, and effective. With a variety of tools at your fingertips, StudyBuddy offers a comprehensive study experience:**\n",
    "- Task Manager: Stay on top of your assignments with our easy-to-use task manager. Keep track of deadlines, set reminders, and manage your study schedule to stay organized and stress-free.\n",
    "- Chatroom: Join discussions with fellow students in our interactive chatroom. Ask questions, share knowledge, and collaborate on challenging topics to enhance your understanding and get the help you need.\n",
    "- Quizzes with XP & Level System: Reinforce your learning through our fun and challenging multiple-choice quizzes. Earn XP and level up as you progress, turning studying into a rewarding experience.\n",
    "\n",
    "**The profile page is a personalized section where users can manage their personal information, including their name, email, date of birth, and city. Here's how it works:**\n",
    "- Adding Information (POST Request): When new users access their profile page, it's initially empty. They can fill in their personal details and submit them. This action sends a POST request to the database, which stores their data and generates a unique user ID.\n",
    "- Loading Information (GET Request): Each time the profile page is reloaded, a GET request is made to retrieve all user data from the database. The system then identifies and displays the current user's information based on their unique ID.\n",
    "- Updating Information (PUT Request): Users can edit any of their details on the profile page. When they save their changes, a PUT request is sent to update their information in the database, with the updated data and user ID included in the request.\n",
    "- Deleting Information (DELETE Request): If users choose to remove their profile information, a DELETE request is sent to the database, specifying their ID to ensure only their data is deleted.\n",
    "\n",
    "**Here’s an explanation of how the backend handles API requests in sbuserapi.py:**\n",
    "\n",
    "- GET Request (get_sbusers()): This function retrieves all user data from the Python SQLite database. It processes the data and sends it back to the frontend as a JSON response. A status code indicating success (e.g., 200 OK) is returned.\n",
    "- POST Request (add_user()): When a new user adds their information, this function is called. It inserts the provided data into the SQLite database. If successful, it returns a status code (e.g., 201 Created) and a JSON message confirming the addition. If the input is invalid, an error message is sent with an appropriate status code.\n",
    "- PUT Request (update_user(id)): This function is used to modify an existing user's data. It updates the corresponding fields in the database for the specified user ID. On success, it returns a status code (e.g., 200 OK) and a confirmation message. If the user ID or input data is invalid, an error response is sent.\n",
    "- DELETE Request (delete_user(id)): To remove a user's data, this function deletes the record associated with the given user ID from the database. It returns a status code (e.g., 200 OK) and a success message if the operation is completed. If the ID doesn't exist, an error status and message are returned."
   ]
  }
 ],
 "metadata": {
  "language_info": {
   "name": "python"
  }
 },
 "nbformat": 4,
 "nbformat_minor": 2
}
