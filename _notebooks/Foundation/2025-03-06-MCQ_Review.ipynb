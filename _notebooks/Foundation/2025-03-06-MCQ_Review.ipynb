{
 "cells": [
  {
   "cell_type": "raw",
   "metadata": {
    "vscode": {
     "languageId": "raw"
    }
   },
   "source": [
    "---\n",
    "comments: false\n",
    "layout: post\n",
    "title: MCQ Review\n",
    "description: Analysis and Review of 2020 Practice MCQ\n",
    "---"
   ]
  },
  {
   "cell_type": "markdown",
   "metadata": {},
   "source": [
    "## MCQ ([Results](https://apclassroom.collegeboard.org/103/assessments/results/63893166/csperformance))\n",
    "\n",
    "<br>\n",
    "\n",
    "![](/alex_2025/images/notebooks/foundation/practiceexam.png)\n",
    "\n",
    "<br>\n",
    "\n",
    "### Skill 1.A - Binary Search (0%)\n",
    "- Understand how binary search works: Review how it divides a sorted list in half repeatedly to locate a target value.\n",
    "- Learn the conditions for using binary search: Ensure you recognize that the list must be sorted before applying binary search.\n",
    "- Practice tracing binary search steps: Given a list and a target value, manually go through each step to see how the search narrows down.\n",
    "- Review iterative vs. recursive implementations: Understand both versions and when each might be used.\n",
    "### Skill 3.B - Calling Procedures (80%)\n",
    "- Check parameter passing: Ensure you understand how arguments are passed into functions and how return values are used.\n",
    "- Practice with different procedure types: Work with procedures that return values vs. those that modify global variables.\n",
    "- Understand scope and side effects: Make sure you know whether a procedure modifies variables inside or outside its scope.\n",
    "### Skill 5.D - Safe Computing (67%)\n",
    "- Review cybersecurity principles: Learn about phishing, malware, strong passwords, encryption, and multi-factor authentication.\n",
    "- Understand data privacy concerns: Study how companies collect, store, and protect user data.\n",
    "- Recognize common security threats: Be familiar with SQL injection, DDoS attacks, and social engineering tactics.\n",
    "- Apply security best practices: Know how to create secure passwords, avoid suspicious links, and use HTTPS for secure web browsing.\n",
    "\n",
    "### Summary\n",
    "I demonstrated strong proficiency across most topics, achieving 100% in areas like program design, conditionals, iteration, algorithms, and cybersecurity concepts. My strengths indicate a solid grasp of foundational computing principles, logical problem-solving, and procedural programming. However, areas for improvement include binary search (0%), where I need to review how it works and when to apply it, and safe computing (67%), where a deeper understanding of cybersecurity threats and best practices could be beneficial. Additionally, improving my calling procedures (80%) knowledge by practicing function calls, return values, and parameter passing could help solidify my understanding."
   ]
  }
 ],
 "metadata": {
  "language_info": {
   "name": "python"
  }
 },
 "nbformat": 4,
 "nbformat_minor": 2
}
