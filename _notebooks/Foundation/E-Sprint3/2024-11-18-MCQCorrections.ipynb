{
 "cells": [
  {
   "cell_type": "markdown",
   "metadata": {},
   "source": [
    "---\n",
    "layout: post\n",
    "title:  MCQ Corrections\n",
    "description: College Board 2018 MCQ Corrections\n",
    "permalink: /mcq\n",
    "comments: true\n",
    "---"
   ]
  },
  {
   "cell_type": "markdown",
   "metadata": {
    "vscode": {
     "languageId": "plaintext"
    }
   },
   "source": [
    "### Q28\n",
    "- Question: A text-editing application uses binary sequences to represent each of 200 different characters. What is the minimum number of bits needed to assign a unique bit sequence to each of the possible characters?\n",
    "- Answer: 2^6 is incorrect since that would only represent 64 characters, you would need 8 bits for 256 characters, so correct answer is D\n",
    "\n",
    "### Q37\n",
    "- Question: The two code segments below are each intended to display the average of the numbers in the list `numList`. Assume that `numList` contains more than one value. Which of the following best describes the two code segments?\n",
    "- Answer: Code segment I also displays the correct average, but requires more arithmetic operations, so C would be correct\n",
    "\n",
    "### Q43\n",
    "- Question: An online retailer uses an algorithm to sort a list of n items by price. The table below shows the approximate number of steps the algorithm takes to sort lists of different sizes. Based on the values in the table, which of the following best characterizes the algorithm for very large values of n?\n",
    "- Answer: The number of steps of the algorithm is a polynominal, so the algorithm runs in reasonable time. Answer is A\n",
    "\n",
    "### Q46\n",
    "- Question: A student wants to create an algorithm that can determine, given any program and program input, whether or not the program will go into an infinite loop for that input. The problem the student is attempting to solve is considered an undecidable problem. Which of the following is true?\n",
    "- Answer: It is not possible to create an algorithm to solve an undecidable problem for all programs and inputs, so the answer is D\n",
    "\n",
    "### Q47\n",
    "- Question: In public key cryptography, the sender uses the recipient’s public key to encrypt a message. Which of the following is needed to decrypt the message?\n",
    "- Answer: The recipient's private key is needed, as the sender's private key would not work. Answer is D\n",
    "\n",
    "### Q51\n",
    "- Question: Which of the following is an example of symmetric encryption?\n",
    "- Answer: Correct answer is B, as A is an example of an asymmetric system because different codes are used to send and receive messages\n",
    "\n",
    "### Q65\n",
    "- Question: A program is created to perform arithmetic operations on positive and negative integers. The program contains the following incorrect procedure, which is intended to return the product of the integers x and y. A programmer suspects that an error in the program is caused by this procedure. Under which of the following conditions will the procedure NOT return the correct product?\n",
    "- Answer: C and D is incorrect. If x is negative and y is positive, the procedure will correctly calculate the product by adding x to itself y times, so answer is B and D\n",
    "\n",
    "### Q66\n",
    "- Question The procedure `Smallest` is intended to return the least value in the list numbers. The procedure does not work as intended. For which of the following values of `theList` will `Smallest(theList)` NOT return the intended value?\n",
    "- Answer: B and C is incorrect. For the list `[20, 10, 30, 40]` 10 is the first value smaller than the first number in the list, so the procedure returns the correct value of 10, answer is C and D\n",
    "\n",
    "### Areas/Skills to work on\n",
    "- 3.C (Develop Programs That Incorporate Abstractions)\n",
    "- 1.A, 1.D (Design and Evaluate Computational Solutions For A Purpose)\n",
    "- 5.E, 5.D (Investigate computing solutions)\n",
    "- 4.C (Evaluate and Test Algorithms and Programs)"
   ]
  }
 ],
 "metadata": {
  "language_info": {
   "name": "python"
  }
 },
 "nbformat": 4,
 "nbformat_minor": 2
}
