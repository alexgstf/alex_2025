{
 "cells": [
  {
   "cell_type": "markdown",
   "metadata": {},
   "source": [
    "---\n",
    "comments: false\n",
    "layout: post\n",
    "title: Digital Divide Homework\n",
    "---"
   ]
  },
  {
   "cell_type": "markdown",
   "metadata": {},
   "source": [
    "### Code Snippet 1\n",
    "\n",
    "***"
   ]
  },
  {
   "cell_type": "code",
   "execution_count": null,
   "metadata": {
    "vscode": {
     "languageId": "javascript"
    }
   },
   "outputs": [
    {
     "data": {
      "application/javascript": "\n// Interactive Digital Divide Explorer\nfunction exploreDigitalDivide() {\n  // Select what data to display\n  const metric = \"1\";\n\n  // Sample data\n  const incomeData = {\n    categories: [\"Lowest 20%\", \"Second 20%\", \"Middle 20%\", \"Fourth 20%\", \"Highest 20%\"],\n    values: [62, 71, 80, 88, 95]\n  };\n\n  const locationData = {\n    categories: [\"Urban\", \"Rural\"],\n    values: [94, 83]\n  };\n\n  const ageData = {\n    categories: [\"18-29\", \"30-49\", \"50-64\", \"65+\"],\n    values: [97, 93, 88, 61]\n  };\n\n  const globalData = {\n    categories: [\"North America\", \"Europe\", \"Asia Pacific\", \"Latin America\", \"Middle East/Africa\"],\n    values: [90, 87, 54, 68, 40]\n  };\n\n  // Select dataset based on user choice\n  let data;\n  let title;\n\n  switch(metric) {\n    case \"1\":\n      data = incomeData;\n      title = \"Internet Access by Income Level (%)\";\n      break;\n    case \"2\":\n      data = locationData;\n      title = \"Urban vs Rural Internet Access (%)\";\n      break;\n    case \"3\":\n      data = ageData;\n      title = \"Internet Usage by Age Group (%)\";\n      break;\n    case \"4\":\n      data = globalData;\n      title = \"Internet Access by Region (%)\";\n      break;\n    default:\n      alert(\"Invalid selection!\");\n      return;\n  }\n\n  // Display the data (in a real app, this would create a chart)\n  console.log(title);\n  console.log(\"=\".repeat(title.length));\n\n  const maxValue = Math.max(...data.values);\n  const maxBarLength = 40;\n\n  for (let i = 0; i < data.categories.length; i++) {\n    const barLength = Math.round((data.values[i] / maxValue) * maxBarLength);\n    const bar = \"█\".repeat(barLength);\n    console.log(`${data.categories[i].padEnd(12)}: ${bar} ${data.values[i]}%`);\n  }\n}\n\n// Run this function to explore different aspects of the digital divide\nexploreDigitalDivide();\n",
      "text/plain": [
       "<IPython.core.display.Javascript object>"
      ]
     },
     "metadata": {},
     "output_type": "display_data"
    }
   ],
   "source": [
    "%%js\n",
    "\n",
    "// Interactive Digital Divide Explorer\n",
    "function exploreDigitalDivide() {\n",
    "  // Select what data to display\n",
    "  const metric = prompt(\n",
    "    \"Which digital divide metric would you like to explore?\\n\" +\n",
    "    \"1: Income-based internet access\\n\" +\n",
    "    \"2: Urban vs rural access\\n\" +\n",
    "    \"3: Age-based internet usage\\n\" +\n",
    "    \"4: Global connectivity rates\"\n",
    "  );\n",
    "\n",
    "  // Sample data\n",
    "  const incomeData = {\n",
    "    categories: [\"Lowest 20%\", \"Second 20%\", \"Middle 20%\", \"Fourth 20%\", \"Highest 20%\"],\n",
    "    values: [62, 71, 80, 88, 95]\n",
    "  };\n",
    "\n",
    "  const locationData = {\n",
    "    categories: [\"Urban\", \"Rural\"],\n",
    "    values: [94, 83]\n",
    "  };\n",
    "\n",
    "  const ageData = {\n",
    "    categories: [\"18-29\", \"30-49\", \"50-64\", \"65+\"],\n",
    "    values: [97, 93, 88, 61]\n",
    "  };\n",
    "\n",
    "  const globalData = {\n",
    "    categories: [\"North America\", \"Europe\", \"Asia Pacific\", \"Latin America\", \"Middle East/Africa\"],\n",
    "    values: [90, 87, 54, 68, 40]\n",
    "  };\n",
    "\n",
    "  // Select dataset based on user choice\n",
    "  let data;\n",
    "  let title;\n",
    "\n",
    "  switch(metric) {\n",
    "    case \"1\":\n",
    "      data = incomeData;\n",
    "      title = \"Internet Access by Income Level (%)\";\n",
    "      break;\n",
    "    case \"2\":\n",
    "      data = locationData;\n",
    "      title = \"Urban vs Rural Internet Access (%)\";\n",
    "      break;\n",
    "    case \"3\":\n",
    "      data = ageData;\n",
    "      title = \"Internet Usage by Age Group (%)\";\n",
    "      break;\n",
    "    case \"4\":\n",
    "      data = globalData;\n",
    "      title = \"Internet Access by Region (%)\";\n",
    "      break;\n",
    "    default:\n",
    "      alert(\"Invalid selection!\");\n",
    "      return;\n",
    "  }\n",
    "\n",
    "  // Display the data (in a real app, this would create a chart)\n",
    "  console.log(title);\n",
    "  console.log(\"=\".repeat(title.length));\n",
    "\n",
    "  const maxValue = Math.max(...data.values);\n",
    "  const maxBarLength = 40;\n",
    "\n",
    "  for (let i = 0; i < data.categories.length; i++) {\n",
    "    const barLength = Math.round((data.values[i] / maxValue) * maxBarLength);\n",
    "    const bar = \"█\".repeat(barLength);\n",
    "    console.log(`${data.categories[i].padEnd(12)}: ${bar} ${data.values[i]}%`);\n",
    "  }\n",
    "}\n",
    "\n",
    "// Run this function to explore different aspects of the digital divide\n",
    "exploreDigitalDivide();"
   ]
  },
  {
   "cell_type": "markdown",
   "metadata": {},
   "source": [
    "***\n",
    "\n",
    "### Output\n",
    "\n",
    "![](/alex_2025/images/notebooks/foundation/ddimage1.png)\n",
    "\n",
    "***\n",
    "\n",
    "### Code Snippet 2\n",
    "\n",
    "***"
   ]
  },
  {
   "cell_type": "code",
   "execution_count": 15,
   "metadata": {
    "vscode": {
     "languageId": "javascript"
    }
   },
   "outputs": [
    {
     "data": {
      "application/javascript": "\n// Bridge the Divide Challenge Game\nfunction bridgeTheDivideGame() {\n    console.log(\"===============================================\");\n    console.log(\"🌉 BRIDGE THE DIVIDE: Digital Inclusion Challenge\");\n    console.log(\"===============================================\");\n    console.log(\"You are a technology policy advisor tasked with\");\n    console.log(\"helping communities overcome the digital divide.\");\n    console.log(\"Analyze each scenario and make the best decision!\\n\");\n  \n    let score = 0;\n    const totalQuestions = 5;\n  \n    // Scenario 1\n    console.log(\"SCENARIO 1: Rural Connectivity\");\n    console.log(\"A rural community of 500 families is located 50 miles from\");\n    console.log(\"the nearest broadband infrastructure. You have $200,000\");\n    console.log(\"in funding. What's your best approach?\");\n    console.log(\"A: Lay fiber optic cable to each home\");\n    console.log(\"B: Set up a wireless tower system\");\n    console.log(\"C: Provide satellite internet subsidies\");\n    console.log(\"D: Create a community center with high-speed internet\");\n  \n    const answer1 = prompt(\"Your choice (A/B/C/D):\").toUpperCase();\n    if (answer1 === \"B\") {\n      console.log(\"✓ Correct! A wireless tower system provides the best\");\n      console.log(\"  coverage for the investment in this rural setting.\");\n      score++;\n    } else {\n      console.log(\"✗ The best answer is B. Fiber would be too expensive,\");\n      console.log(\"  satellite has high latency issues, and a single center\");\n      console.log(\"  wouldn't provide sufficient access for all families.\");\n    }\n  \n    // Scenario 2\n    console.log(\"\\nSCENARIO 2: Digital Literacy\");\n    console.log(\"An urban neighborhood has new affordable internet access,\");\n    console.log(\"but adoption remains low at 30%. Investigation reveals many\");\n    console.log(\"residents lack digital skills. What approach would help most?\");\n    console.log(\"A: Reduce internet prices further\");\n    console.log(\"B: Distribute free tablets to all residents\");\n    console.log(\"C: Launch digital literacy workshops at local library\");\n    console.log(\"D: Create a tech support hotline\");\n  \n    const answer2 = prompt(\"Your choice (A/B/C/D):\").toUpperCase();\n    if (answer2 === \"C\") {\n      console.log(\"✓ Correct! Digital literacy workshops address the\");\n      console.log(\"  root cause - lack of skills - rather than just\");\n      console.log(\"  providing more access or support.\");\n      score++;\n    } else {\n      console.log(\"✗ The best answer is C. The primary barrier isn't\");\n      console.log(\"  cost or device ownership, but skill development.\");\n      console.log(\"  Workshops provide hands-on learning opportunities.\");\n    }\n  \n    // Add more scenarios as needed...\n  \n    // Final score\n    console.log(\"\\n===============================================\");\n    console.log(`FINAL SCORE: ${score}/${totalQuestions}`);\n    console.log(\"===============================================\");\n  \n    if (score === totalQuestions) {\n      console.log(\"🏆 Perfect! You're a digital inclusion expert!\");\n    } else if (score >= totalQuestions * 0.7) {\n      console.log(\"🥈 Good job! You have strong understanding of digital divide issues.\");\n    } else if (score >= totalQuestions * 0.5) {\n      console.log(\"👍 Decent effort, but review some of the concepts again.\");\n    } else {\n      console.log(\"📚 You need more study on digital divide solutions.\");\n    }\n  }\n  \nbridgeTheDivideGame();\n",
      "text/plain": [
       "<IPython.core.display.Javascript object>"
      ]
     },
     "metadata": {},
     "output_type": "display_data"
    }
   ],
   "source": [
    "%%js\n",
    "\n",
    "// Bridge the Divide Challenge Game\n",
    "function bridgeTheDivideGame() {\n",
    "    console.log(\"===============================================\");\n",
    "    console.log(\"🌉 BRIDGE THE DIVIDE: Digital Inclusion Challenge\");\n",
    "    console.log(\"===============================================\");\n",
    "    console.log(\"You are a technology policy advisor tasked with\");\n",
    "    console.log(\"helping communities overcome the digital divide.\");\n",
    "    console.log(\"Analyze each scenario and make the best decision!\\n\");\n",
    "  \n",
    "    let score = 0;\n",
    "    const totalQuestions = 5;\n",
    "  \n",
    "    // Scenario 1\n",
    "    console.log(\"SCENARIO 1: Rural Connectivity\");\n",
    "    console.log(\"A rural community of 500 families is located 50 miles from\");\n",
    "    console.log(\"the nearest broadband infrastructure. You have $200,000\");\n",
    "    console.log(\"in funding. What's your best approach?\");\n",
    "    console.log(\"A: Lay fiber optic cable to each home\");\n",
    "    console.log(\"B: Set up a wireless tower system\");\n",
    "    console.log(\"C: Provide satellite internet subsidies\");\n",
    "    console.log(\"D: Create a community center with high-speed internet\");\n",
    "  \n",
    "    const answer1 = prompt(\"Your choice (A/B/C/D):\").toUpperCase();\n",
    "    if (answer1 === \"B\") {\n",
    "      console.log(\"✓ Correct! A wireless tower system provides the best\");\n",
    "      console.log(\"  coverage for the investment in this rural setting.\");\n",
    "      score++;\n",
    "    } else {\n",
    "      console.log(\"✗ The best answer is B. Fiber would be too expensive,\");\n",
    "      console.log(\"  satellite has high latency issues, and a single center\");\n",
    "      console.log(\"  wouldn't provide sufficient access for all families.\");\n",
    "    }\n",
    "  \n",
    "    // Scenario 2\n",
    "    console.log(\"\\nSCENARIO 2: Digital Literacy\");\n",
    "    console.log(\"An urban neighborhood has new affordable internet access,\");\n",
    "    console.log(\"but adoption remains low at 30%. Investigation reveals many\");\n",
    "    console.log(\"residents lack digital skills. What approach would help most?\");\n",
    "    console.log(\"A: Reduce internet prices further\");\n",
    "    console.log(\"B: Distribute free tablets to all residents\");\n",
    "    console.log(\"C: Launch digital literacy workshops at local library\");\n",
    "    console.log(\"D: Create a tech support hotline\");\n",
    "  \n",
    "    const answer2 = prompt(\"Your choice (A/B/C/D):\").toUpperCase();\n",
    "    if (answer2 === \"C\") {\n",
    "      console.log(\"✓ Correct! Digital literacy workshops address the\");\n",
    "      console.log(\"  root cause - lack of skills - rather than just\");\n",
    "      console.log(\"  providing more access or support.\");\n",
    "      score++;\n",
    "    } else {\n",
    "      console.log(\"✗ The best answer is C. The primary barrier isn't\");\n",
    "      console.log(\"  cost or device ownership, but skill development.\");\n",
    "      console.log(\"  Workshops provide hands-on learning opportunities.\");\n",
    "    }\n",
    "  \n",
    "    // Add more scenarios as needed...\n",
    "  \n",
    "    // Final score\n",
    "    console.log(\"\\n===============================================\");\n",
    "    console.log(`FINAL SCORE: ${score}/${totalQuestions}`);\n",
    "    console.log(\"===============================================\");\n",
    "  \n",
    "    if (score === totalQuestions) {\n",
    "      console.log(\"🏆 Perfect! You're a digital inclusion expert!\");\n",
    "    } else if (score >= totalQuestions * 0.7) {\n",
    "      console.log(\"🥈 Good job! You have strong understanding of digital divide issues.\");\n",
    "    } else if (score >= totalQuestions * 0.5) {\n",
    "      console.log(\"👍 Decent effort, but review some of the concepts again.\");\n",
    "    } else {\n",
    "      console.log(\"📚 You need more study on digital divide solutions.\");\n",
    "    }\n",
    "  }\n",
    "  \n",
    "bridgeTheDivideGame();"
   ]
  },
  {
   "cell_type": "markdown",
   "metadata": {},
   "source": [
    "***\n",
    "\n",
    "### Output\n",
    "\n",
    "![](/alex_2025/images/notebooks/foundation/ddimage2.png)\n",
    "\n",
    "***\n",
    "\n",
    "### Essay Practice Questions\n",
    "\n",
    "***\n",
    "\n",
    "1. Many students lack access to essential devices such as laptops, tablets, or smartphones, limiting their ability to engage with digital learning platforms. For example, during remote learning, students without a personal computer had to rely on shared family devices, reducing their ability to complete assignments on time. In addition, High-speed internet is crucial for accessing educational resources, but many low-income or rural households struggle with slow or unreliable connections. Students without stable internet may experience difficulties attending virtual classes, downloading course materials, or participating in online discussions. Finally, Even when students have access to devices and the internet, they may not have the necessary skills to navigate digital tools effectively. For instance, students unfamiliar with online research methods may struggle to verify information credibility, impacting their ability to complete assignments properly.\n",
    "\n",
    "2. In urban areas, high costs of internet service and devices can exclude low-income families and high population density can lead to network congestion, slowing speeds. Some solutions to this are expanding public Wi-Fi in schools, libraries, and community centers, or offering government subsidies or low-cost broadband plans for low-income households. In rural areas, sparse populations make broadband expansion unprofitable for service providers, while schools in rural areas may lack tech-integrated curriculums. We could solve this by investing in satellite or fiber-optic broadband infrastructure, and expanding mobile data coverage and community Wi-Fi hotspots.\n",
    "\n",
    "***\n",
    "\n",
    "### Extra Credit\n",
    "\n",
    "***\n",
    "\n",
    "#### Chosen Countires: US & Venezeula \n",
    "\n",
    "![](/alex_2025/images/notebooks/foundation/ddimage3.png)\n",
    "![](/alex_2025/images/notebooks/foundation/ddimage4.png)\n",
    "\n",
    "***\n",
    "\n",
    "#### Stats\n",
    "The United States far surpasses Venezuela in digital infrastructure, with significantly higher internet penetration (92% vs. 53%), mobile device access (96% vs. 71%), and average internet speed (224.5 Mbps vs. 9.7 Mbps). Additionally, the U.S. has a much higher digital literacy rate (86% vs. 43%), indicating a stronger ability among its population to effectively use technology.\n",
    "\n",
    "#### Implications\n",
    "\n",
    "These disparities highlight the digital divide between advanced and developing nations, where limited access to fast and reliable internet in Venezuela restricts economic growth, educational opportunities, and technological innovation. In contrast, the U.S.’s superior digital landscape supports a thriving digital economy, remote work, and online education. Bridging this gap in developing countries like Venezuela would require significant investment in infrastructure, education, and policy reforms to improve connectivity and digital skills.\n",
    "\n",
    "#### Possible Solution\n",
    "\n",
    "A practical solution to bridge the digital divide between countries like the U.S. and Venezuela could involve a multi-pronged approach focusing on infrastructure, education, and policy reform. First, international partnerships with tech companies and governments could fund the expansion of internet infrastructure, including satellite and wireless broadband technologies, to reach rural and underserved areas in Venezuela. Next, implementing community-based digital literacy programs—either in-person or through mobile apps—could help improve digital skills at all levels of society. Additionally, creating incentives for local startups and international companies to invest in affordable technology and mobile devices could increase mobile device access. Finally, governments should work on policies that subsidize internet costs for low-income families and promote digital inclusion as part of national development strategies. This combination of efforts could help build a more equitable digital future for developing countries."
   ]
  }
 ],
 "metadata": {
  "kernelspec": {
   "display_name": "venv",
   "language": "python",
   "name": "python3"
  },
  "language_info": {
   "codemirror_mode": {
    "name": "ipython",
    "version": 3
   },
   "file_extension": ".py",
   "mimetype": "text/x-python",
   "name": "python",
   "nbconvert_exporter": "python",
   "pygments_lexer": "ipython3",
   "version": "3.12.3"
  }
 },
 "nbformat": 4,
 "nbformat_minor": 2
}
