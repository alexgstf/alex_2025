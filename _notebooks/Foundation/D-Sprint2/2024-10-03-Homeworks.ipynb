{
 "cells": [
  {
   "cell_type": "markdown",
   "metadata": {},
   "source": [
    "---\n",
    "layout: post\n",
    "title:  Lesson Homeworks\n",
    "toc: true\n",
    "description: Homeworks for Big Idea 3\n",
    "permalink: /homeworks\n",
    "comments: true\n",
    "---"
   ]
  },
  {
   "cell_type": "markdown",
   "metadata": {},
   "source": [
    "## 3.8\n",
    "\n",
    "---\n",
    "\n",
    "### 3.8.1\n",
    "Popcorn Hack 1"
   ]
  },
  {
   "cell_type": "code",
   "execution_count": 7,
   "metadata": {},
   "outputs": [
    {
     "data": {
      "application/javascript": "for (let i = 5; i < 10; i++) {\n    console.log(i);\n}\n",
      "text/plain": [
       "<IPython.core.display.Javascript object>"
      ]
     },
     "metadata": {},
     "output_type": "display_data"
    }
   ],
   "source": [
    "%%javascript\n",
    "for (let i = 5; i < 10; i++) {\n",
    "    console.log(i);\n",
    "}"
   ]
  },
  {
   "cell_type": "markdown",
   "metadata": {},
   "source": [
    "Popcorn Hack 2"
   ]
  },
  {
   "cell_type": "code",
   "execution_count": 8,
   "metadata": {},
   "outputs": [
    {
     "name": "stdout",
     "output_type": "stream",
     "text": [
      "CSP\n",
      "stats\n",
      "band\n"
     ]
    }
   ],
   "source": [
    "classes = ['CSP', 'stats', 'band']\n",
    "\n",
    "for _class in classes:\n",
    "    print(_class)"
   ]
  },
  {
   "cell_type": "markdown",
   "metadata": {},
   "source": [
    "Homework (Python Loop, key + value)"
   ]
  },
  {
   "cell_type": "code",
   "execution_count": 2,
   "metadata": {},
   "outputs": [
    {
     "name": "stdout",
     "output_type": "stream",
     "text": [
      "name: Alex\n",
      "pet: dog\n",
      "color: blue\n"
     ]
    }
   ],
   "source": [
    "person = {'name': 'Alex', 'pet': 'dog', 'color': 'blue'}\n",
    "\n",
    "for key in person:\n",
    "    print(f\"{key}: {person[key]}\")"
   ]
  },
  {
   "cell_type": "markdown",
   "metadata": {},
   "source": [
    "Javascript Loop (only values)"
   ]
  },
  {
   "cell_type": "code",
   "execution_count": 7,
   "metadata": {},
   "outputs": [
    {
     "data": {
      "application/javascript": "\nlet person = {'name': 'Alex', 'pet': 'dog', 'color': 'blue'}\n\nfor (let value of Object.values(person)) {\n  console.log(value)\n}\n",
      "text/plain": [
       "<IPython.core.display.Javascript object>"
      ]
     },
     "metadata": {},
     "output_type": "display_data"
    }
   ],
   "source": [
    "%%javascript\n",
    "\n",
    "let person = {'name': 'Alex', 'pet': 'dog', 'color': 'blue'}\n",
    "\n",
    "for (let value of Object.values(person)) {\n",
    "  console.log(value)\n",
    "}"
   ]
  },
  {
   "cell_type": "markdown",
   "metadata": {},
   "source": [
    "### 3.8.2\n",
    "Popcorn Hack 1"
   ]
  },
  {
   "cell_type": "code",
   "execution_count": 2,
   "metadata": {},
   "outputs": [
    {
     "name": "stdout",
     "output_type": "stream",
     "text": [
      "2\n",
      "4\n",
      "6\n",
      "8\n",
      "10\n",
      "12\n",
      "14\n",
      "16\n",
      "18\n",
      "20\n"
     ]
    }
   ],
   "source": [
    "number = 1\n",
    "\n",
    "while number <= 20:\n",
    "    if number % 2 == 0:\n",
    "        print(number)\n",
    "    number += 1"
   ]
  },
  {
   "cell_type": "markdown",
   "metadata": {},
   "source": [
    "Popcorn Hack 2"
   ]
  },
  {
   "cell_type": "code",
   "execution_count": 3,
   "metadata": {},
   "outputs": [
    {
     "name": "stdout",
     "output_type": "stream",
     "text": [
      "Flipped: heads\n",
      "Landed on heads!\n"
     ]
    }
   ],
   "source": [
    "import random\n",
    "\n",
    "flip = \"\"\n",
    "\n",
    "while flip != \"heads\":\n",
    "    flip = random.choice([\"heads\", \"tails\"])\n",
    "    print(f\"Flipped: {flip}\")\n",
    "\n",
    "print(\"Landed on heads!\")"
   ]
  },
  {
   "cell_type": "markdown",
   "metadata": {},
   "source": [
    "Homework"
   ]
  },
  {
   "cell_type": "code",
   "execution_count": 5,
   "metadata": {},
   "outputs": [
    {
     "name": "stdout",
     "output_type": "stream",
     "text": [
      "Buzz\n",
      "51\n",
      "Fizz\n",
      "53\n",
      "54\n",
      "Buzz\n",
      "Boom\n",
      "57\n",
      "58\n",
      "59\n",
      "FizzBuzz\n",
      "61\n",
      "62\n",
      "Boom\n",
      "Fizz\n",
      "Buzz\n",
      "66\n",
      "67\n",
      "Fizz\n",
      "69\n",
      "Boom\n",
      "71\n",
      "Fizz\n",
      "73\n",
      "74\n",
      "Buzz\n",
      "Fizz\n",
      "Boom\n",
      "78\n",
      "79\n",
      "FizzBuzz\n",
      "81\n",
      "82\n",
      "83\n",
      "Boom\n",
      "Buzz\n",
      "86\n",
      "87\n",
      "Fizz\n",
      "89\n",
      "Buzz\n",
      "Boom\n",
      "Fizz\n",
      "93\n",
      "94\n",
      "Buzz\n",
      "Fizz\n",
      "97\n",
      "Boom\n",
      "99\n",
      "FizzBuzz\n"
     ]
    }
   ],
   "source": [
    "for i in range(50,101):\n",
    "    mod5 = (i % 5 == 0)\n",
    "    mod4 = (i % 4 == 0)\n",
    "    mod7 = (i % 7 == 0)\n",
    "    if mod5 and mod4:\n",
    "        print(\"FizzBuzz\")\n",
    "    elif mod7:\n",
    "        print(\"Boom\")\n",
    "    elif mod4:\n",
    "        print(\"Fizz\")\n",
    "    elif mod5:\n",
    "        print(\"Buzz\")\n",
    "    else:\n",
    "        print(i)\n"
   ]
  },
  {
   "cell_type": "markdown",
   "metadata": {},
   "source": [
    "### 3.8.3\n",
    "Popcorn Hack 1"
   ]
  },
  {
   "cell_type": "code",
   "execution_count": 7,
   "metadata": {},
   "outputs": [
    {
     "name": "stdout",
     "output_type": "stream",
     "text": [
      "Your To-Do List:\n",
      "1. Finish homework\n",
      "2. Clean the room\n",
      "3. Go grocery shopping\n",
      "4. Read a book\n",
      "5. Exercise\n"
     ]
    }
   ],
   "source": [
    "# List of tasks\n",
    "tasks = [\n",
    "    \"Finish homework\",\n",
    "    \"Clean the room\",\n",
    "    \"Go grocery shopping\",\n",
    "    \"Read a book\",\n",
    "    \"Exercise\"\n",
    "]\n",
    "\n",
    "# Function to display tasks with indices\n",
    "def display_tasks():\n",
    "    print(\"Your To-Do List:\")\n",
    "    for index in range(len(tasks)):\n",
    "        print(f\"{index + 1}. {tasks[index]}\")  # Display task with its index\n",
    "\n",
    "# Call the function\n",
    "display_tasks()"
   ]
  },
  {
   "cell_type": "markdown",
   "metadata": {},
   "source": [
    "Popcorn Hack 2"
   ]
  },
  {
   "cell_type": "code",
   "execution_count": 8,
   "metadata": {},
   "outputs": [
    {
     "data": {
      "application/javascript": "// List of tasks\nconst tasks = [\n    \"Finish homework\",\n    \"Clean the room\",\n    \"Go grocery shopping\",\n    \"Read a book\",\n    \"Exercise\"\n];\n\n// Function to display tasks with indices\nfunction displayTasks() {\n    console.log(\"Your To-Do List:\");\n    for (let index = 0; index < tasks.length; index++) {\n        console.log(`${index + 1}. ${tasks[index]}`); // Display task with its index\n    }\n}\n\n// Call the function\ndisplayTasks();\n",
      "text/plain": [
       "<IPython.core.display.Javascript object>"
      ]
     },
     "metadata": {},
     "output_type": "display_data"
    }
   ],
   "source": [
    "%%javascript\n",
    "// List of tasks\n",
    "const tasks = [\n",
    "    \"Finish homework\",\n",
    "    \"Clean the room\",\n",
    "    \"Go grocery shopping\",\n",
    "    \"Read a book\",\n",
    "    \"Exercise\"\n",
    "];\n",
    "\n",
    "// Function to display tasks with indices\n",
    "function displayTasks() {\n",
    "    console.log(\"Your To-Do List:\");\n",
    "    for (let index = 0; index < tasks.length; index++) {\n",
    "        console.log(`${index + 1}. ${tasks[index]}`); // Display task with its index\n",
    "    }\n",
    "}\n",
    "\n",
    "// Call the function\n",
    "displayTasks();"
   ]
  },
  {
   "cell_type": "markdown",
   "metadata": {},
   "source": [
    "Homework"
   ]
  },
  {
   "cell_type": "code",
   "execution_count": 9,
   "metadata": {},
   "outputs": [
    {
     "name": "stdout",
     "output_type": "stream",
     "text": [
      "Your To-Do List:\n",
      "1. Wake up\n",
      "2. Brush teeth\n",
      "3. Get dressed\n",
      "4. Eat breakfast\n",
      "5. Go to school\n"
     ]
    }
   ],
   "source": [
    "tasks = [\n",
    "    \"Wake up\",\n",
    "    \"Brush teeth\",\n",
    "    \"Get dressed\",\n",
    "    \"Eat breakfast\",\n",
    "    \"Go to school\"\n",
    "]\n",
    "\n",
    "def display_tasks():\n",
    "    print(\"Your To-Do List:\")\n",
    "    for index in range(len(tasks)):\n",
    "        print(f\"{index + 1}. {tasks[index]}\")\n",
    "\n",
    "display_tasks()"
   ]
  },
  {
   "cell_type": "markdown",
   "metadata": {},
   "source": [
    "### 3.8.4\n",
    "Popcorn Hack 1"
   ]
  },
  {
   "cell_type": "code",
   "execution_count": 10,
   "metadata": {},
   "outputs": [
    {
     "data": {
      "application/javascript": "for (let i = 0; i < 5; i++)\n  for (let i = 10; i < 20; i++) {\n    if (i === 15) {\n        break;\n    }\n    console.log(i);\n}\n",
      "text/plain": [
       "<IPython.core.display.Javascript object>"
      ]
     },
     "metadata": {},
     "output_type": "display_data"
    }
   ],
   "source": [
    "%%javascript\n",
    "for (let i = 0; i < 5; i++)\n",
    "  for (let i = 10; i < 20; i++) {\n",
    "    if (i === 15) {\n",
    "        break;\n",
    "    }\n",
    "    console.log(i);\n",
    "}"
   ]
  },
  {
   "cell_type": "markdown",
   "metadata": {},
   "source": [
    "Popcorn Hack 2"
   ]
  },
  {
   "cell_type": "code",
   "execution_count": 11,
   "metadata": {},
   "outputs": [
    {
     "name": "stdout",
     "output_type": "stream",
     "text": [
      "1\n",
      "2\n",
      "4\n",
      "5\n",
      "7\n",
      "8\n",
      "10\n",
      "11\n",
      "13\n",
      "14\n",
      "16\n",
      "17\n",
      "19\n",
      "20\n",
      "22\n",
      "23\n",
      "25\n",
      "26\n",
      "28\n",
      "29\n"
     ]
    }
   ],
   "source": [
    "#continue on numbers divisible by 3 from 1-30\n",
    "\n",
    "for i in range(1,31):\n",
    "    if i % 3 == 0:\n",
    "        continue\n",
    "    print(i)"
   ]
  },
  {
   "cell_type": "markdown",
   "metadata": {},
   "source": [
    "Homework\n",
    "- javascript cell running loop 10 times, each time runs another loop with iterator var starting at 5 ending at 15, step is 2. breaks if i > 10\n",
    "- python cell with loop iterating through nums 1-50, continues if num is a perfect square"
   ]
  },
  {
   "cell_type": "code",
   "execution_count": 15,
   "metadata": {},
   "outputs": [
    {
     "data": {
      "application/javascript": "for (let i = 0; i < 10; i++)\n  for (let i = 5; i < 15; i+=2) {\n    if (i > 10) {\n        break;\n    }\n    console.log(i);\n}\n",
      "text/plain": [
       "<IPython.core.display.Javascript object>"
      ]
     },
     "metadata": {},
     "output_type": "display_data"
    }
   ],
   "source": [
    "%%javascript\n",
    "for (let i = 0; i < 10; i++)\n",
    "  for (let i = 5; i < 15; i+=2) {\n",
    "    if (i > 10) {\n",
    "        break;\n",
    "    }\n",
    "    console.log(i);\n",
    "}"
   ]
  },
  {
   "cell_type": "code",
   "execution_count": 17,
   "metadata": {},
   "outputs": [
    {
     "name": "stdout",
     "output_type": "stream",
     "text": [
      "1 is a perfect square\n",
      "This number is 2\n",
      "This number is 3\n",
      "4 is a perfect square\n",
      "This number is 5\n",
      "This number is 6\n",
      "This number is 7\n",
      "This number is 8\n",
      "9 is a perfect square\n",
      "This number is 10\n",
      "This number is 11\n",
      "This number is 12\n",
      "This number is 13\n",
      "This number is 14\n",
      "This number is 15\n",
      "16 is a perfect square\n",
      "This number is 17\n",
      "This number is 18\n",
      "This number is 19\n",
      "This number is 20\n",
      "This number is 21\n",
      "This number is 22\n",
      "This number is 23\n",
      "This number is 24\n",
      "25 is a perfect square\n",
      "This number is 26\n",
      "This number is 27\n",
      "This number is 28\n",
      "This number is 29\n",
      "This number is 30\n",
      "This number is 31\n",
      "This number is 32\n",
      "This number is 33\n",
      "This number is 34\n",
      "This number is 35\n",
      "36 is a perfect square\n",
      "This number is 37\n",
      "This number is 38\n",
      "This number is 39\n",
      "This number is 40\n",
      "This number is 41\n",
      "This number is 42\n",
      "This number is 43\n",
      "This number is 44\n",
      "This number is 45\n",
      "This number is 46\n",
      "This number is 47\n",
      "This number is 48\n",
      "49 is a perfect square\n",
      "This number is 50\n"
     ]
    }
   ],
   "source": [
    "import math\n",
    "\n",
    "for i in range(1,51):\n",
    "    if math.sqrt(i) == math.floor(math.sqrt(i)):\n",
    "        print(f\"{i} is a perfect square\")\n",
    "        continue\n",
    "    print(f\"This number is {i}\")"
   ]
  },
  {
   "cell_type": "markdown",
   "metadata": {},
   "source": [
    "## 3.2\n",
    "\n",
    "---\n",
    "\n",
    "Popcorn Hack 1"
   ]
  },
  {
   "cell_type": "code",
   "execution_count": 1,
   "metadata": {},
   "outputs": [
    {
     "name": "stdout",
     "output_type": "stream",
     "text": [
      "1\n"
     ]
    }
   ],
   "source": [
    "fruits = {\"bananas\": 1,\"apples\": 2, \"pears\": 3}\n",
    "print(fruits[\"bananas\"])"
   ]
  },
  {
   "cell_type": "markdown",
   "metadata": {},
   "source": [
    "Popcorn Hack 2"
   ]
  },
  {
   "cell_type": "code",
   "execution_count": 2,
   "metadata": {},
   "outputs": [
    {
     "name": "stdout",
     "output_type": "stream",
     "text": [
      "Result is 42\n"
     ]
    }
   ],
   "source": [
    "firstnum = input(\"enter first num: \")\n",
    "secondnum = input(\"enter second num: \")\n",
    "op = input(\"enter operator \")\n",
    "if op == \"+\":\n",
    "    print(f\"Result is {int(firstnum)+int(secondnum)}\")\n",
    "elif op == \"-\":\n",
    "    print(f\"Result is {int(firstnum)-int(secondnum)}\")\n",
    "elif op == \"*\":\n",
    "    print(f\"Result is {int(firstnum)*int(secondnum)}\")\n",
    "elif op == \"/\":\n",
    "    print(f\"Result is {int(firstnum)/int(secondnum)}\")"
   ]
  },
  {
   "cell_type": "markdown",
   "metadata": {},
   "source": [
    "Popcorn Hack 3"
   ]
  },
  {
   "cell_type": "code",
   "execution_count": 4,
   "metadata": {},
   "outputs": [
    {
     "name": "stdout",
     "output_type": "stream",
     "text": [
      "['SampleSampleSample', 'TextTextText', 'HelloHelloHello']\n"
     ]
    }
   ],
   "source": [
    "strings = [\"Sample\", \"Text\", \"Hello\"]\n",
    "newstrs = []\n",
    "n=3\n",
    "for str in strings:\n",
    "    newstrs.append(str*3)\n",
    "print(newstrs)"
   ]
  },
  {
   "cell_type": "markdown",
   "metadata": {},
   "source": [
    "Popcorn Hack 4"
   ]
  },
  {
   "cell_type": "code",
   "execution_count": 7,
   "metadata": {},
   "outputs": [
    {
     "name": "stdout",
     "output_type": "stream",
     "text": [
      "False\n",
      "True\n"
     ]
    }
   ],
   "source": [
    "set1 = {1,2,3}\n",
    "set2 = {4,5}\n",
    "set3 = {3,4}\n",
    "def simsets(s1,s2):\n",
    "    similar = False\n",
    "    for i in s1:\n",
    "        for j in s2:\n",
    "            if i == j:\n",
    "                similar = True\n",
    "    return similar\n",
    "print(simsets(set1,set2))\n",
    "print(simsets(set2,set3))"
   ]
  },
  {
   "cell_type": "markdown",
   "metadata": {},
   "source": [
    "Homework"
   ]
  },
  {
   "cell_type": "code",
   "execution_count": 7,
   "metadata": {},
   "outputs": [
    {
     "name": "stdout",
     "output_type": "stream",
     "text": [
      "Profile: {'name': 'Alex', 'age': 17, 'city': 'San Diego', 'favorite_color': 'blue'}\n",
      "Hobbies: ['coding', 'gaming', 'band']\n",
      "New Profile: {'name': 'Alex', 'age': 17, 'city': 'San Diego', 'favorite_color': 'blue', 'hobbies': ['coding', 'gaming', 'band']}\n",
      "Is gaming avaliable today? True\n",
      "I have 3 hobbies\n",
      "Favorite hobbies: gaming, band\n",
      "Skills: {'playing trombone', 'tech-savvy', 'good at math'}\n",
      "New skill: None\n",
      "Total cost: $45.00\n"
     ]
    }
   ],
   "source": [
    "#part 1\n",
    "profile = {\"name\": \"Alex\", \"age\": 17, \"city\": \"San Diego\", \"favorite_color\": \"blue\"}\n",
    "print(\"Profile:\",profile)\n",
    "\n",
    "#part 2\n",
    "hobbies = [\"coding\", \"gaming\", \"band\"]\n",
    "print(\"Hobbies:\",hobbies)\n",
    "\n",
    "#part 3\n",
    "profile[\"hobbies\"] = hobbies\n",
    "print(\"New Profile:\",profile)\n",
    "\n",
    "#part 4\n",
    "has_hobby = True\n",
    "print(f\"Is {hobbies[1]} avaliable today? {has_hobby}\")\n",
    "\n",
    "#part 5\n",
    "total_hobbies = len(hobbies)\n",
    "print(f\"I have {total_hobbies} hobbies\")\n",
    "\n",
    "#part 6\n",
    "favorite_hobbies = (\"gaming, band\")\n",
    "print(\"Favorite hobbies:\",favorite_hobbies)\n",
    "\n",
    "#part 7\n",
    "skills = {\"good at math\",\"tech-savvy\",\"playing trombone\"}\n",
    "print(\"Skills:\",skills)\n",
    "\n",
    "#part 8\n",
    "new_skill = None\n",
    "print(\"New skill:\",new_skill)\n",
    "\n",
    "#part 9\n",
    "total_cost = float(len(hobbies)*5 + len(skills)*10)\n",
    "print(f\"Total cost: ${total_cost:.2f}\")"
   ]
  },
  {
   "cell_type": "markdown",
   "metadata": {},
   "source": [
    "## 3.1\n",
    "\n",
    "---\n",
    "\n",
    "Popcorn Hack 1"
   ]
  },
  {
   "cell_type": "code",
   "execution_count": 8,
   "metadata": {},
   "outputs": [
    {
     "data": {
      "application/javascript": "\nvar fruits = {\n    1: \"fruit\",\n    2: \"fruit\",\n    3: \"fruit\"\n};\n\nconsole.log(\"Fruit with key 3:\", fruits[3]);\n",
      "text/plain": [
       "<IPython.core.display.Javascript object>"
      ]
     },
     "metadata": {},
     "output_type": "display_data"
    }
   ],
   "source": [
    "%%javascript\n",
    "\n",
    "var fruits = {\n",
    "    1: \"fruit\",\n",
    "    2: \"fruit\",\n",
    "    3: \"fruit\"\n",
    "};\n",
    "\n",
    "console.log(\"Fruit with key 3:\", fruits[3]);"
   ]
  },
  {
   "cell_type": "markdown",
   "metadata": {},
   "source": [
    "Popcorn Hack 2"
   ]
  },
  {
   "cell_type": "code",
   "execution_count": 9,
   "metadata": {},
   "outputs": [
    {
     "name": "stdout",
     "output_type": "stream",
     "text": [
      "Welcome to the Math Quiz Game!\n",
      "Answer as many questions as you can. Type 'q' to quit anytime.\n",
      "\n",
      "What is 15 * 4?\n",
      "Correct!\n",
      "What is 10 * 3?\n",
      "Oops! The correct answer was 30.\n",
      "What is 7 + 8?\n",
      "Oops! The correct answer was 15.\n",
      "What is 7 * 4?\n",
      "Correct!\n",
      "What is 12 * 3?\n",
      "Oops! The correct answer was 36.\n",
      "What is 13 * 8?\n",
      "Correct!\n",
      "What is 12 * 6?\n",
      "Correct!\n",
      "What is 11 / 7?\n",
      "Oops! The correct answer was 1.5714285714285714.\n",
      "What is 9 - 6?\n",
      "Thanks for playing! Your final score is 4.\n"
     ]
    }
   ],
   "source": [
    "import random\n",
    "\n",
    "def play_game():\n",
    "    score = 0\n",
    "    operators = ['+', '-', '*','/']\n",
    "\n",
    "    print(\"Welcome to the Math Quiz Game!\")\n",
    "    print(\"Answer as many questions as you can. Type 'q' to quit anytime.\\n\")\n",
    "\n",
    "    while True:\n",
    "        # Generate two random numbers and choose a random operator\n",
    "        num1 = random.randint(1, 20)\n",
    "        num2 = random.randint(1, 20)\n",
    "        op = random.choice(operators)\n",
    "\n",
    "        # Calculate the correct answer based on the operator\n",
    "        if op == '+':\n",
    "            answer = num1 + num2\n",
    "        elif op == '-':\n",
    "            answer = num1 - num2\n",
    "        elif op == '*':\n",
    "            answer = num1 * num2\n",
    "        else:\n",
    "            answer = num1 / num2\n",
    "\n",
    "        # Ask the player the question\n",
    "        print(f\"What is {num1} {op} {num2}?\")\n",
    "        player_input = input(\"Your answer (or type 'q' to quit): \")\n",
    "\n",
    "        # Check if the player wants to quit\n",
    "        if player_input.lower() == 'q':\n",
    "            break\n",
    "\n",
    "        # Check if the answer is correct\n",
    "        try:\n",
    "            player_answer = int(player_input)\n",
    "            if player_answer == answer:\n",
    "                print(\"Correct!\")\n",
    "                score += 1\n",
    "            else:\n",
    "                print(f\"Oops! The correct answer was {answer}.\")\n",
    "        except ValueError:\n",
    "            print(\"Invalid input, please enter a number or 'q' to quit.\")\n",
    "\n",
    "    print(f\"Thanks for playing! Your final score is {score}.\")\n",
    "\n",
    "# Start the game\n",
    "play_game()\n"
   ]
  },
  {
   "cell_type": "markdown",
   "metadata": {},
   "source": [
    "Popcorn Hack 3"
   ]
  },
  {
   "cell_type": "code",
   "execution_count": 13,
   "metadata": {},
   "outputs": [
    {
     "data": {
      "application/javascript": "\n// Temperature Converter in JavaScript\nlet temperature = parseFloat(prompt(\"Enter the temperature:\"));\nlet conversionType = prompt(\"Convert to (C)elsius or (F)ahrenheit?\").toUpperCase();\n\nif (conversionType === \"C\") {\n    // Convert Fahrenheit to Celsius\n    let celsius = (temperature - 32) * (5 / 9);\n    console.log(`${temperature}°F is equal to ${celsius.toFixed(2)}°C`);\n} else if (conversionType === \"F\") {\n    // Convert Celsius to Fahrenheit\n    let fahrenheit = (temperature * (9 / 5)) + 32;\n    console.log(`${temperature}°C is equal to ${fahrenheit.toFixed(2)}°F`);\n} else {\n    console.log(\"Invalid conversion type entered.\");\n}\n",
      "text/plain": [
       "<IPython.core.display.Javascript object>"
      ]
     },
     "metadata": {},
     "output_type": "display_data"
    }
   ],
   "source": [
    "%%javascript\n",
    "\n",
    "// Temperature Converter in JavaScript\n",
    "let temperature = parseFloat(prompt(\"Enter the temperature:\"));\n",
    "let conversionType = prompt(\"Convert to (C)elsius or (F)ahrenheit?\").toUpperCase();\n",
    "\n",
    "if (conversionType === \"C\") {\n",
    "    // Convert Fahrenheit to Celsius\n",
    "    let celsius = (temperature - 32) * (5 / 9);\n",
    "    console.log(`${temperature}°F is equal to ${celsius.toFixed(2)}°C`);\n",
    "} else if (conversionType === \"F\") {\n",
    "    // Convert Celsius to Fahrenheit\n",
    "    let fahrenheit = (temperature * (9 / 5)) + 32;\n",
    "    console.log(`${temperature}°C is equal to ${fahrenheit.toFixed(2)}°F`);\n",
    "} else {\n",
    "    console.log(\"Invalid conversion type entered.\");\n",
    "}"
   ]
  },
  {
   "cell_type": "code",
   "execution_count": 16,
   "metadata": {},
   "outputs": [],
   "source": [
    "#Python\n",
    "\n",
    "# Temperature Converter Template\n",
    "\n",
    "# Function to convert temperatures\n",
    "def temperature_converter():\n",
    "    try:\n",
    "        # Prompt the user for the temperature\n",
    "        temperature = float(input(\"Enter the temperature: \"))\n",
    "        \n",
    "        # Ask the user for the conversion type\n",
    "        conversion_type = input(\"Convert to Celsius or Fahrenheit? \").strip().upper()\n",
    "\n",
    "        if conversion_type == \"C\":\n",
    "            pass\n",
    "            # TODO: Convert Fahrenheit to Celsius\n",
    "            # celsius = (temperature - 32) * (5 / 9)\n",
    "            # print(f\"{temperature}°F is equal to {celsius:.2f}°C\")\n",
    "\n",
    "        elif conversion_type == \"F\":\n",
    "            pass\n",
    "            # TODO: Convert Celsius to Fahrenheit\n",
    "            # fahrenheit = (temperature * (9 / 5)) + 32\n",
    "            # print(f\"{temperature}°C is equal to {fahrenheit:.2f}°F\")\n",
    "\n",
    "        else:\n",
    "            print(\"Invalid conversion type entered. Please enter 'C' or 'F'.\")\n",
    "\n",
    "    except ValueError:\n",
    "        print(\"Invalid input. Please enter a numeric temperature value.\")\n",
    "\n",
    "# Call the temperature converter function\n",
    "temperature_converter()"
   ]
  },
  {
   "cell_type": "markdown",
   "metadata": {},
   "source": [
    "Homework"
   ]
  },
  {
   "cell_type": "code",
   "execution_count": 20,
   "metadata": {},
   "outputs": [
    {
     "name": "stdout",
     "output_type": "stream",
     "text": [
      "Added item \"eggs\" of price $3.50 to list.\n",
      "Added item \"milk\" of price $4.25 to list.\n",
      "Added item \"flour\" of price $5.99 to list.\n",
      "Total Cost: $13.74\n"
     ]
    }
   ],
   "source": [
    "# Shopping List Calculator\n",
    "\n",
    "items = []\n",
    "total_cost = 0\n",
    "\n",
    "while True:\n",
    "    try:\n",
    "        name = input(\"Enter the name of the item (or 'done' to calculate total): \")\n",
    "        if name == \"done\":\n",
    "            for item in items:\n",
    "                total_cost+=item[1]\n",
    "            print(f\"Total Cost: ${total_cost:.2f}\")\n",
    "            break\n",
    "        price = float(input(\"Enter price of item: \")) \n",
    "        items.append((name,price))\n",
    "        print(f\"Added item \\\"{name}\\\" of price ${price:.2f} to list.\")\n",
    "    except ValueError:\n",
    "        print(\"Please enter a valid price\")\n",
    "\n",
    "\n",
    "    "
   ]
  },
  {
   "cell_type": "code",
   "execution_count": 21,
   "metadata": {},
   "outputs": [
    {
     "data": {
      "application/javascript": "\nfunction convertMeasurement(quantity, fromUnit, toUnit) {\n    const conversions = {\n        tablespoon: {\n            teaspoon: 3,\n            cup: 1 / 16\n        },\n        teaspoon: {\n            tablespoon: 1 / 3,\n            cup: 1 / 48\n        },\n        cup: {\n            tablespoon: 16,\n            teaspoon: 48\n        }\n    };\n\n    return quantity * conversions[fromUnit][toUnit];\n}\n\nwhile (true) {\n    const input = prompt(\"Enter an ingredient (or type 'exit' to quit):\");\n\n    if (input.toLowerCase() === 'exit') {\n        break;\n    }\n\n    const quantity = parseFloat(prompt(\"Enter the quantity:\"));\n    const fromUnit = prompt(\"Enter the current unit (tablespoon, teaspoon, cup):\").toLowerCase();\n    const toUnit = prompt(\"Enter the unit to convert to (tablespoon, teaspoon, cup):\").toLowerCase();\n\n    if (!quantity || !fromUnit || !toUnit || !conversions[fromUnit] || !conversions[toUnit]) {\n        alert(\"Invalid input. Please try again.\");\n        continue;\n    }\n\n    const convertedQuantity = convertMeasurement(quantity, fromUnit, toUnit);\n    alert(`${quantity} ${fromUnit}(s) is equal to ${convertedQuantity} ${toUnit}(s)`);\n}\n",
      "text/plain": [
       "<IPython.core.display.Javascript object>"
      ]
     },
     "metadata": {},
     "output_type": "display_data"
    }
   ],
   "source": [
    "%%javascript\n",
    "\n",
    "//Measurement Conversion\n",
    "\n",
    "function convertMeasurement(quantity, fromUnit, toUnit) {\n",
    "    const conversions = {\n",
    "        tablespoon: {\n",
    "            teaspoon: 3,\n",
    "            cup: 1 / 16\n",
    "        },\n",
    "        teaspoon: {\n",
    "            tablespoon: 1 / 3,\n",
    "            cup: 1 / 48\n",
    "        },\n",
    "        cup: {\n",
    "            tablespoon: 16,\n",
    "            teaspoon: 48\n",
    "        }\n",
    "    };\n",
    "\n",
    "    return quantity * conversions[fromUnit][toUnit];\n",
    "}\n",
    "\n",
    "while (true) {\n",
    "    const input = prompt(\"Enter an ingredient (or type 'exit' to quit):\");\n",
    "\n",
    "    if (input.toLowerCase() === 'exit') {\n",
    "        break;\n",
    "    }\n",
    "\n",
    "    const quantity = parseFloat(prompt(\"Enter the quantity:\"));\n",
    "    const fromUnit = prompt(\"Enter the current unit (tablespoon, teaspoon, cup):\").toLowerCase();\n",
    "    const toUnit = prompt(\"Enter the unit to convert to (tablespoon, teaspoon, cup):\").toLowerCase();\n",
    "\n",
    "    if (!quantity || !fromUnit || !toUnit || !conversions[fromUnit] || !conversions[toUnit]) {\n",
    "        alert(\"Invalid input. Please try again.\");\n",
    "        continue;\n",
    "    }\n",
    "\n",
    "    const convertedQuantity = convertMeasurement(quantity, fromUnit, toUnit);\n",
    "    alert(`${quantity} ${fromUnit}(s) is equal to ${convertedQuantity} ${toUnit}(s)`);\n",
    "}\n"
   ]
  },
  {
   "cell_type": "markdown",
   "metadata": {},
   "source": [
    "## 3.4"
   ]
  },
  {
   "cell_type": "markdown",
   "metadata": {},
   "source": [
    "Popcorn Hack 1"
   ]
  },
  {
   "cell_type": "code",
   "execution_count": 3,
   "metadata": {},
   "outputs": [
    {
     "data": {
      "application/javascript": "\nlet movie = \"pulp fiction\";\nlet sport = \"baseball\";\nlet petName = \"dudu\";\n\nlet concat = \"My favorite movie is \" + movie + \", I like to play \" + sport + \", and my pets name is \" + petName;\nlet interp = `My favorite movie is ${movie}, I like to play ${sport}, and my pets name is ${petName}`;\n\nconsole.log(concat)\nconsole.log(interp)\n",
      "text/plain": [
       "<IPython.core.display.Javascript object>"
      ]
     },
     "metadata": {},
     "output_type": "display_data"
    }
   ],
   "source": [
    "%%javascript\n",
    "\n",
    "let movie = \"pulp fiction\";\n",
    "let sport = \"baseball\";\n",
    "let petName = \"dudu\";\n",
    "\n",
    "let concat = \"My favorite movie is \" + movie + \", I like to play \" + sport + \", and my pets name is \" + petName;\n",
    "let interp = `My favorite movie is ${movie}, I like to play ${sport}, and my pets name is ${petName}`;\n",
    "\n",
    "console.log(concat);\n",
    "console.log(interp);\n"
   ]
  },
  {
   "cell_type": "markdown",
   "metadata": {},
   "source": [
    "Popcorn Hack 2"
   ]
  },
  {
   "cell_type": "code",
   "execution_count": 22,
   "metadata": {},
   "outputs": [
    {
     "data": {
      "application/javascript": "\nlet phrase = \"A journey of a thousand miles begins with a single step\";\n\nconsole.log(phrase.slice(2,9));\nconsole.log(phrase.slice(-31,-26));\nconsole.log(phrase.slice(30));\n",
      "text/plain": [
       "<IPython.core.display.Javascript object>"
      ]
     },
     "metadata": {},
     "output_type": "display_data"
    }
   ],
   "source": [
    "%%javascript\n",
    "\n",
    "let phrase = \"A journey of a thousand miles begins with a single step\";\n",
    "\n",
    "console.log(phrase.slice(2,9));\n",
    "console.log(phrase.slice(-31,-26));\n",
    "console.log(phrase.slice(30));"
   ]
  },
  {
   "cell_type": "markdown",
   "metadata": {},
   "source": [
    "Popcorn Hack 3"
   ]
  },
  {
   "cell_type": "code",
   "execution_count": 11,
   "metadata": {},
   "outputs": [
    {
     "name": "stdout",
     "output_type": "stream",
     "text": [
      "I ov rning python!\n"
     ]
    }
   ],
   "source": [
    "def remove_vowels(str):\n",
    "    name = \"alexALEX\"\n",
    "    altered = \"\".join([char for char in str if char not in name])\n",
    "    return altered\n",
    "msg = \"I Love learning python!\"\n",
    "print(remove_vowels(msg))"
   ]
  },
  {
   "cell_type": "markdown",
   "metadata": {},
   "source": [
    "Popcorn Hack 4 (reverse order)"
   ]
  },
  {
   "cell_type": "code",
   "execution_count": 17,
   "metadata": {},
   "outputs": [
    {
     "name": "stdout",
     "output_type": "stream",
     "text": [
      "python in coding am I everybody Hello\n"
     ]
    }
   ],
   "source": [
    "def reverse_words(str):\n",
    "    words = str.split()\n",
    "    rev = \" \".join(words[::-1])\n",
    "    return rev\n",
    "\n",
    "msg = \"Hello everybody I am coding in python\"\n",
    "print(reverse_words(msg))"
   ]
  },
  {
   "cell_type": "markdown",
   "metadata": {},
   "source": [
    "Homework"
   ]
  },
  {
   "cell_type": "code",
   "execution_count": 23,
   "metadata": {},
   "outputs": [
    {
     "data": {
      "application/javascript": "\nlet greeting = \"hello\";\nlet first_name = \"John\";\nlet last_name = \"Doe\";\n\nconsole.log(greeting + \" \" + first_name + \" \" + last_name);\n",
      "text/plain": [
       "<IPython.core.display.Javascript object>"
      ]
     },
     "metadata": {},
     "output_type": "display_data"
    }
   ],
   "source": [
    "%%javascript\n",
    "\n",
    "//Greeting Generator\n",
    "let greeting = \"hello\";\n",
    "let first_name = \"John\";\n",
    "let last_name = \"Doe\";\n",
    "\n",
    "console.log(greeting + \" \" + first_name + \" \" + last_name);"
   ]
  },
  {
   "cell_type": "code",
   "execution_count": 30,
   "metadata": {},
   "outputs": [
    {
     "name": "stdout",
     "output_type": "stream",
     "text": [
      "False\n",
      "True\n",
      "True\n"
     ]
    }
   ],
   "source": [
    "#Palendrome Checker\n",
    "\n",
    "def is_palendrome(str):\n",
    "    return str.replace(\" \",\"\")==str[::-1].replace(\" \",\"\")\n",
    "\n",
    "print(is_palendrome(\"python\"))\n",
    "print(is_palendrome(\"race car\"))\n",
    "print(is_palendrome(\"())(\"))"
   ]
  }
 ],
 "metadata": {
  "kernelspec": {
   "display_name": "venv",
   "language": "python",
   "name": "python3"
  },
  "language_info": {
   "codemirror_mode": {
    "name": "ipython",
    "version": 3
   },
   "file_extension": ".py",
   "mimetype": "text/x-python",
   "name": "python",
   "nbconvert_exporter": "python",
   "pygments_lexer": "ipython3",
   "version": "3.12.3"
  }
 },
 "nbformat": 4,
 "nbformat_minor": 2
}
