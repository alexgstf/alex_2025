{
 "cells": [
  {
   "cell_type": "markdown",
   "metadata": {},
   "source": [
    "---\n",
    "layout: post\n",
    "title:  Lesson Homeworks\n",
    "toc: true\n",
    "description: Homeworks for Big Idea 3\n",
    "permalink: /homeworks\n",
    "comments: true\n",
    "---"
   ]
  },
  {
   "cell_type": "markdown",
   "metadata": {},
   "source": [
    "## 3.8\n",
    "\n",
    "---\n",
    "\n",
    "### 3.8.1\n",
    "#### Popcorn Hack 1"
   ]
  },
  {
   "cell_type": "code",
   "execution_count": 7,
   "metadata": {},
   "outputs": [
    {
     "data": {
      "application/javascript": "for (let i = 5; i < 10; i++) {\n    console.log(i);\n}\n",
      "text/plain": [
       "<IPython.core.display.Javascript object>"
      ]
     },
     "metadata": {},
     "output_type": "display_data"
    }
   ],
   "source": [
    "%%javascript\n",
    "for (let i = 5; i < 10; i++) {\n",
    "    console.log(i);\n",
    "}"
   ]
  },
  {
   "cell_type": "markdown",
   "metadata": {},
   "source": [
    "#### Popcorn Hack 2"
   ]
  },
  {
   "cell_type": "code",
   "execution_count": 8,
   "metadata": {},
   "outputs": [
    {
     "name": "stdout",
     "output_type": "stream",
     "text": [
      "CSP\n",
      "stats\n",
      "band\n"
     ]
    }
   ],
   "source": [
    "classes = ['CSP', 'stats', 'band']\n",
    "\n",
    "for _class in classes:\n",
    "    print(_class)"
   ]
  },
  {
   "cell_type": "markdown",
   "metadata": {},
   "source": [
    "#### Homework\n",
    "##### Python Loop (key + value)"
   ]
  },
  {
   "cell_type": "code",
   "execution_count": 2,
   "metadata": {},
   "outputs": [
    {
     "name": "stdout",
     "output_type": "stream",
     "text": [
      "name: Alex\n",
      "pet: dog\n",
      "color: blue\n"
     ]
    }
   ],
   "source": [
    "person = {'name': 'Alex', 'pet': 'dog', 'color': 'blue'}\n",
    "\n",
    "for key in person:\n",
    "    print(f\"{key}: {person[key]}\")"
   ]
  },
  {
   "cell_type": "markdown",
   "metadata": {},
   "source": [
    "##### Javascript Loop (only values)"
   ]
  },
  {
   "cell_type": "code",
   "execution_count": 7,
   "metadata": {},
   "outputs": [
    {
     "data": {
      "application/javascript": "\nlet person = {'name': 'Alex', 'pet': 'dog', 'color': 'blue'}\n\nfor (let value of Object.values(person)) {\n  console.log(value)\n}\n",
      "text/plain": [
       "<IPython.core.display.Javascript object>"
      ]
     },
     "metadata": {},
     "output_type": "display_data"
    }
   ],
   "source": [
    "%%javascript\n",
    "\n",
    "let person = {'name': 'Alex', 'pet': 'dog', 'color': 'blue'}\n",
    "\n",
    "for (let value of Object.values(person)) {\n",
    "  console.log(value)\n",
    "}"
   ]
  },
  {
   "cell_type": "markdown",
   "metadata": {},
   "source": [
    "### 3.8.2\n",
    "#### Popcorn Hack 1"
   ]
  },
  {
   "cell_type": "code",
   "execution_count": 2,
   "metadata": {},
   "outputs": [
    {
     "name": "stdout",
     "output_type": "stream",
     "text": [
      "2\n",
      "4\n",
      "6\n",
      "8\n",
      "10\n",
      "12\n",
      "14\n",
      "16\n",
      "18\n",
      "20\n"
     ]
    }
   ],
   "source": [
    "number = 1\n",
    "\n",
    "while number <= 20:\n",
    "    if number % 2 == 0:\n",
    "        print(number)\n",
    "    number += 1"
   ]
  },
  {
   "cell_type": "markdown",
   "metadata": {},
   "source": [
    "#### Popcorn Hack 2"
   ]
  },
  {
   "cell_type": "code",
   "execution_count": 3,
   "metadata": {},
   "outputs": [
    {
     "name": "stdout",
     "output_type": "stream",
     "text": [
      "Flipped: heads\n",
      "Landed on heads!\n"
     ]
    }
   ],
   "source": [
    "import random\n",
    "\n",
    "flip = \"\"\n",
    "\n",
    "while flip != \"heads\":\n",
    "    flip = random.choice([\"heads\", \"tails\"])\n",
    "    print(f\"Flipped: {flip}\")\n",
    "\n",
    "print(\"Landed on heads!\")"
   ]
  },
  {
   "cell_type": "markdown",
   "metadata": {},
   "source": [
    "#### Homework"
   ]
  },
  {
   "cell_type": "code",
   "execution_count": 5,
   "metadata": {},
   "outputs": [
    {
     "name": "stdout",
     "output_type": "stream",
     "text": [
      "Buzz\n",
      "51\n",
      "Fizz\n",
      "53\n",
      "54\n",
      "Buzz\n",
      "Boom\n",
      "57\n",
      "58\n",
      "59\n",
      "FizzBuzz\n",
      "61\n",
      "62\n",
      "Boom\n",
      "Fizz\n",
      "Buzz\n",
      "66\n",
      "67\n",
      "Fizz\n",
      "69\n",
      "Boom\n",
      "71\n",
      "Fizz\n",
      "73\n",
      "74\n",
      "Buzz\n",
      "Fizz\n",
      "Boom\n",
      "78\n",
      "79\n",
      "FizzBuzz\n",
      "81\n",
      "82\n",
      "83\n",
      "Boom\n",
      "Buzz\n",
      "86\n",
      "87\n",
      "Fizz\n",
      "89\n",
      "Buzz\n",
      "Boom\n",
      "Fizz\n",
      "93\n",
      "94\n",
      "Buzz\n",
      "Fizz\n",
      "97\n",
      "Boom\n",
      "99\n",
      "FizzBuzz\n"
     ]
    }
   ],
   "source": [
    "for i in range(50,101):\n",
    "    mod5 = (i % 5 == 0)\n",
    "    mod4 = (i % 4 == 0)\n",
    "    mod7 = (i % 7 == 0)\n",
    "    if mod5 and mod4:\n",
    "        print(\"FizzBuzz\")\n",
    "    elif mod7:\n",
    "        print(\"Boom\")\n",
    "    elif mod4:\n",
    "        print(\"Fizz\")\n",
    "    elif mod5:\n",
    "        print(\"Buzz\")\n",
    "    else:\n",
    "        print(i)\n"
   ]
  },
  {
   "cell_type": "markdown",
   "metadata": {},
   "source": [
    "### 3.8.3\n",
    "#### Popcorn Hack 1"
   ]
  },
  {
   "cell_type": "code",
   "execution_count": 7,
   "metadata": {},
   "outputs": [
    {
     "name": "stdout",
     "output_type": "stream",
     "text": [
      "Your To-Do List:\n",
      "1. Finish homework\n",
      "2. Clean the room\n",
      "3. Go grocery shopping\n",
      "4. Read a book\n",
      "5. Exercise\n"
     ]
    }
   ],
   "source": [
    "# List of tasks\n",
    "tasks = [\n",
    "    \"Finish homework\",\n",
    "    \"Clean the room\",\n",
    "    \"Go grocery shopping\",\n",
    "    \"Read a book\",\n",
    "    \"Exercise\"\n",
    "]\n",
    "\n",
    "# Function to display tasks with indices\n",
    "def display_tasks():\n",
    "    print(\"Your To-Do List:\")\n",
    "    for index in range(len(tasks)):\n",
    "        print(f\"{index + 1}. {tasks[index]}\")  # Display task with its index\n",
    "\n",
    "# Call the function\n",
    "display_tasks()"
   ]
  },
  {
   "cell_type": "markdown",
   "metadata": {},
   "source": [
    "#### Popcorn Hack 2"
   ]
  },
  {
   "cell_type": "code",
   "execution_count": 8,
   "metadata": {},
   "outputs": [
    {
     "data": {
      "application/javascript": "// List of tasks\nconst tasks = [\n    \"Finish homework\",\n    \"Clean the room\",\n    \"Go grocery shopping\",\n    \"Read a book\",\n    \"Exercise\"\n];\n\n// Function to display tasks with indices\nfunction displayTasks() {\n    console.log(\"Your To-Do List:\");\n    for (let index = 0; index < tasks.length; index++) {\n        console.log(`${index + 1}. ${tasks[index]}`); // Display task with its index\n    }\n}\n\n// Call the function\ndisplayTasks();\n",
      "text/plain": [
       "<IPython.core.display.Javascript object>"
      ]
     },
     "metadata": {},
     "output_type": "display_data"
    }
   ],
   "source": [
    "%%javascript\n",
    "// List of tasks\n",
    "const tasks = [\n",
    "    \"Finish homework\",\n",
    "    \"Clean the room\",\n",
    "    \"Go grocery shopping\",\n",
    "    \"Read a book\",\n",
    "    \"Exercise\"\n",
    "];\n",
    "\n",
    "// Function to display tasks with indices\n",
    "function displayTasks() {\n",
    "    console.log(\"Your To-Do List:\");\n",
    "    for (let index = 0; index < tasks.length; index++) {\n",
    "        console.log(`${index + 1}. ${tasks[index]}`); // Display task with its index\n",
    "    }\n",
    "}\n",
    "\n",
    "// Call the function\n",
    "displayTasks();"
   ]
  },
  {
   "cell_type": "markdown",
   "metadata": {},
   "source": [
    "#### Homework"
   ]
  },
  {
   "cell_type": "code",
   "execution_count": 9,
   "metadata": {},
   "outputs": [
    {
     "name": "stdout",
     "output_type": "stream",
     "text": [
      "Your To-Do List:\n",
      "1. Wake up\n",
      "2. Brush teeth\n",
      "3. Get dressed\n",
      "4. Eat breakfast\n",
      "5. Go to school\n"
     ]
    }
   ],
   "source": [
    "tasks = [\n",
    "    \"Wake up\",\n",
    "    \"Brush teeth\",\n",
    "    \"Get dressed\",\n",
    "    \"Eat breakfast\",\n",
    "    \"Go to school\"\n",
    "]\n",
    "\n",
    "def display_tasks():\n",
    "    print(\"Your To-Do List:\")\n",
    "    for index in range(len(tasks)):\n",
    "        print(f\"{index + 1}. {tasks[index]}\")\n",
    "\n",
    "display_tasks()"
   ]
  },
  {
   "cell_type": "markdown",
   "metadata": {},
   "source": [
    "### 3.8.4\n",
    "#### Popcorn Hack 1"
   ]
  },
  {
   "cell_type": "code",
   "execution_count": 10,
   "metadata": {},
   "outputs": [
    {
     "data": {
      "application/javascript": "for (let i = 0; i < 5; i++)\n  for (let i = 10; i < 20; i++) {\n    if (i === 15) {\n        break;\n    }\n    console.log(i);\n}\n",
      "text/plain": [
       "<IPython.core.display.Javascript object>"
      ]
     },
     "metadata": {},
     "output_type": "display_data"
    }
   ],
   "source": [
    "%%javascript\n",
    "for (let i = 0; i < 5; i++)\n",
    "  for (let i = 10; i < 20; i++) {\n",
    "    if (i === 15) {\n",
    "        break;\n",
    "    }\n",
    "    console.log(i);\n",
    "}"
   ]
  },
  {
   "cell_type": "markdown",
   "metadata": {},
   "source": [
    "#### Popcorn Hack 2"
   ]
  },
  {
   "cell_type": "code",
   "execution_count": 11,
   "metadata": {},
   "outputs": [
    {
     "name": "stdout",
     "output_type": "stream",
     "text": [
      "1\n",
      "2\n",
      "4\n",
      "5\n",
      "7\n",
      "8\n",
      "10\n",
      "11\n",
      "13\n",
      "14\n",
      "16\n",
      "17\n",
      "19\n",
      "20\n",
      "22\n",
      "23\n",
      "25\n",
      "26\n",
      "28\n",
      "29\n"
     ]
    }
   ],
   "source": [
    "#continue on numbers divisible by 3 from 1-30\n",
    "\n",
    "for i in range(1,31):\n",
    "    if i % 3 == 0:\n",
    "        continue\n",
    "    print(i)"
   ]
  },
  {
   "cell_type": "markdown",
   "metadata": {},
   "source": [
    "#### Homework\n",
    "- javascript cell running loop 10 times, each time runs another loop with iterator var starting at 5 ending at 15, step is 2. breaks if i > 10\n",
    "- python cell with loop iterating through nums 1-50, continues if num is a perfect square"
   ]
  },
  {
   "cell_type": "code",
   "execution_count": 15,
   "metadata": {},
   "outputs": [
    {
     "data": {
      "application/javascript": "for (let i = 0; i < 10; i++)\n  for (let i = 5; i < 15; i+=2) {\n    if (i > 10) {\n        break;\n    }\n    console.log(i);\n}\n",
      "text/plain": [
       "<IPython.core.display.Javascript object>"
      ]
     },
     "metadata": {},
     "output_type": "display_data"
    }
   ],
   "source": [
    "%%javascript\n",
    "for (let i = 0; i < 10; i++)\n",
    "  for (let i = 5; i < 15; i+=2) {\n",
    "    if (i > 10) {\n",
    "        break;\n",
    "    }\n",
    "    console.log(i);\n",
    "}"
   ]
  },
  {
   "cell_type": "code",
   "execution_count": 17,
   "metadata": {},
   "outputs": [
    {
     "name": "stdout",
     "output_type": "stream",
     "text": [
      "1 is a perfect square\n",
      "This number is 2\n",
      "This number is 3\n",
      "4 is a perfect square\n",
      "This number is 5\n",
      "This number is 6\n",
      "This number is 7\n",
      "This number is 8\n",
      "9 is a perfect square\n",
      "This number is 10\n",
      "This number is 11\n",
      "This number is 12\n",
      "This number is 13\n",
      "This number is 14\n",
      "This number is 15\n",
      "16 is a perfect square\n",
      "This number is 17\n",
      "This number is 18\n",
      "This number is 19\n",
      "This number is 20\n",
      "This number is 21\n",
      "This number is 22\n",
      "This number is 23\n",
      "This number is 24\n",
      "25 is a perfect square\n",
      "This number is 26\n",
      "This number is 27\n",
      "This number is 28\n",
      "This number is 29\n",
      "This number is 30\n",
      "This number is 31\n",
      "This number is 32\n",
      "This number is 33\n",
      "This number is 34\n",
      "This number is 35\n",
      "36 is a perfect square\n",
      "This number is 37\n",
      "This number is 38\n",
      "This number is 39\n",
      "This number is 40\n",
      "This number is 41\n",
      "This number is 42\n",
      "This number is 43\n",
      "This number is 44\n",
      "This number is 45\n",
      "This number is 46\n",
      "This number is 47\n",
      "This number is 48\n",
      "49 is a perfect square\n",
      "This number is 50\n"
     ]
    }
   ],
   "source": [
    "import math\n",
    "\n",
    "for i in range(1,51):\n",
    "    if math.sqrt(i) == math.floor(math.sqrt(i)):\n",
    "        print(f\"{i} is a perfect square\")\n",
    "        continue\n",
    "    print(f\"This number is {i}\")"
   ]
  }
 ],
 "metadata": {
  "kernelspec": {
   "display_name": "venv",
   "language": "python",
   "name": "python3"
  },
  "language_info": {
   "codemirror_mode": {
    "name": "ipython",
    "version": 3
   },
   "file_extension": ".py",
   "mimetype": "text/x-python",
   "name": "python",
   "nbconvert_exporter": "python",
   "pygments_lexer": "ipython3",
   "version": "3.12.3"
  }
 },
 "nbformat": 4,
 "nbformat_minor": 2
}
