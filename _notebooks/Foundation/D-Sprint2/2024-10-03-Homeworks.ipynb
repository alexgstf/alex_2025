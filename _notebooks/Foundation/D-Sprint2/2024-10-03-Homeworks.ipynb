{
 "cells": [
  {
   "cell_type": "markdown",
   "metadata": {},
   "source": [
    "---\n",
    "layout: post\n",
    "title:  Lesson Homeworks\n",
    "toc: true\n",
    "description: Homeworks for Big Idea 3\n",
    "permalink: /homeworks\n",
    "comments: true\n",
    "---"
   ]
  },
  {
   "cell_type": "markdown",
   "metadata": {},
   "source": [
    "## 3.8\n",
    "\n",
    "Python supports iteration through for and while loops. A for loop in Python typically iterates over elements in a list, tuple, or other iterable objects. JavaScript uses traditional for loops, as well as for...of and for...in loops to iterate over arrays and objects. while loops in JavaScript are similar to Python’s and repeat until the condition becomes false.\n",
    "\n",
    "---\n",
    "\n",
    "### 3.8.1\n",
    "Popcorn Hack 1\n",
    "- iterating through numbers 5-10, printing to console"
   ]
  },
  {
   "cell_type": "code",
   "execution_count": 7,
   "metadata": {},
   "outputs": [
    {
     "data": {
      "application/javascript": "for (let i = 5; i < 10; i++) {\n    console.log(i);\n}\n",
      "text/plain": [
       "<IPython.core.display.Javascript object>"
      ]
     },
     "metadata": {},
     "output_type": "display_data"
    }
   ],
   "source": [
    "%%javascript\n",
    "for (let i = 5; i < 10; i++) {\n",
    "    console.log(i);\n",
    "}"
   ]
  },
  {
   "cell_type": "markdown",
   "metadata": {},
   "source": [
    "Popcorn Hack 2\n",
    "- iterating through a list and printing elements"
   ]
  },
  {
   "cell_type": "code",
   "execution_count": 8,
   "metadata": {},
   "outputs": [
    {
     "name": "stdout",
     "output_type": "stream",
     "text": [
      "CSP\n",
      "stats\n",
      "band\n"
     ]
    }
   ],
   "source": [
    "classes = ['CSP', 'stats', 'band']\n",
    "\n",
    "for _class in classes:\n",
    "    print(_class)"
   ]
  },
  {
   "cell_type": "markdown",
   "metadata": {},
   "source": [
    "Homework\n",
    "- Python Loop (key + value)"
   ]
  },
  {
   "cell_type": "code",
   "execution_count": 2,
   "metadata": {},
   "outputs": [
    {
     "name": "stdout",
     "output_type": "stream",
     "text": [
      "name: Alex\n",
      "pet: dog\n",
      "color: blue\n"
     ]
    }
   ],
   "source": [
    "person = {'name': 'Alex', 'pet': 'dog', 'color': 'blue'}\n",
    "\n",
    "for key in person:\n",
    "    print(f\"{key}: {person[key]}\")"
   ]
  },
  {
   "cell_type": "markdown",
   "metadata": {},
   "source": [
    "- Javascript Loop (only values)"
   ]
  },
  {
   "cell_type": "code",
   "execution_count": 7,
   "metadata": {},
   "outputs": [
    {
     "data": {
      "application/javascript": "\nlet person = {'name': 'Alex', 'pet': 'dog', 'color': 'blue'}\n\nfor (let value of Object.values(person)) {\n  console.log(value)\n}\n",
      "text/plain": [
       "<IPython.core.display.Javascript object>"
      ]
     },
     "metadata": {},
     "output_type": "display_data"
    }
   ],
   "source": [
    "%%javascript\n",
    "\n",
    "let person = {'name': 'Alex', 'pet': 'dog', 'color': 'blue'}\n",
    "\n",
    "for (let value of Object.values(person)) {\n",
    "  console.log(value)\n",
    "}"
   ]
  },
  {
   "cell_type": "markdown",
   "metadata": {},
   "source": [
    "### 3.8.2\n",
    "Popcorn Hack 1\n",
    "- Printing all even numbers through 1-20, using modulus operator"
   ]
  },
  {
   "cell_type": "code",
   "execution_count": 2,
   "metadata": {},
   "outputs": [
    {
     "name": "stdout",
     "output_type": "stream",
     "text": [
      "2\n",
      "4\n",
      "6\n",
      "8\n",
      "10\n",
      "12\n",
      "14\n",
      "16\n",
      "18\n",
      "20\n"
     ]
    }
   ],
   "source": [
    "number = 1\n",
    "\n",
    "while number <= 20:\n",
    "    if number % 2 == 0:\n",
    "        print(number)\n",
    "    number += 1"
   ]
  },
  {
   "cell_type": "markdown",
   "metadata": {},
   "source": [
    "Popcorn Hack 2\n",
    "- using random library to print 'flip a coin', randomly choose between two strings in table\n",
    "- continue flipping until heads is chosen"
   ]
  },
  {
   "cell_type": "code",
   "execution_count": 3,
   "metadata": {},
   "outputs": [
    {
     "name": "stdout",
     "output_type": "stream",
     "text": [
      "Flipped: heads\n",
      "Landed on heads!\n"
     ]
    }
   ],
   "source": [
    "import random\n",
    "\n",
    "flip = \"\"\n",
    "\n",
    "while flip != \"heads\":\n",
    "    flip = random.choice([\"heads\", \"tails\"])\n",
    "    print(f\"Flipped: {flip}\")\n",
    "\n",
    "print(\"Landed on heads!\")"
   ]
  },
  {
   "cell_type": "markdown",
   "metadata": {},
   "source": [
    "Homework\n",
    "- from numbers 50-100, print FizzBuzz if multiple of 20\n",
    "- print Boom if multiple of 7\n",
    "- print Fizz if multiple of 4\n",
    "- print Buzz if multiple of 5\n",
    "- print number if multiple of none of the above"
   ]
  },
  {
   "cell_type": "code",
   "execution_count": 5,
   "metadata": {},
   "outputs": [
    {
     "name": "stdout",
     "output_type": "stream",
     "text": [
      "Buzz\n",
      "51\n",
      "Fizz\n",
      "53\n",
      "54\n",
      "Buzz\n",
      "Boom\n",
      "57\n",
      "58\n",
      "59\n",
      "FizzBuzz\n",
      "61\n",
      "62\n",
      "Boom\n",
      "Fizz\n",
      "Buzz\n",
      "66\n",
      "67\n",
      "Fizz\n",
      "69\n",
      "Boom\n",
      "71\n",
      "Fizz\n",
      "73\n",
      "74\n",
      "Buzz\n",
      "Fizz\n",
      "Boom\n",
      "78\n",
      "79\n",
      "FizzBuzz\n",
      "81\n",
      "82\n",
      "83\n",
      "Boom\n",
      "Buzz\n",
      "86\n",
      "87\n",
      "Fizz\n",
      "89\n",
      "Buzz\n",
      "Boom\n",
      "Fizz\n",
      "93\n",
      "94\n",
      "Buzz\n",
      "Fizz\n",
      "97\n",
      "Boom\n",
      "99\n",
      "FizzBuzz\n"
     ]
    }
   ],
   "source": [
    "for i in range(50,101):\n",
    "    mod5 = (i % 5 == 0)\n",
    "    mod4 = (i % 4 == 0)\n",
    "    mod7 = (i % 7 == 0)\n",
    "    if mod5 and mod4:\n",
    "        print(\"FizzBuzz\")\n",
    "    elif mod7:\n",
    "        print(\"Boom\")\n",
    "    elif mod4:\n",
    "        print(\"Fizz\")\n",
    "    elif mod5:\n",
    "        print(\"Buzz\")\n",
    "    else:\n",
    "        print(i)\n"
   ]
  },
  {
   "cell_type": "markdown",
   "metadata": {},
   "source": [
    "### 3.8.3\n",
    "Popcorn Hack 1\n",
    "- Iterate through a list and print the contents in formatted string for each element"
   ]
  },
  {
   "cell_type": "code",
   "execution_count": 7,
   "metadata": {},
   "outputs": [
    {
     "name": "stdout",
     "output_type": "stream",
     "text": [
      "Your To-Do List:\n",
      "1. Finish homework\n",
      "2. Clean the room\n",
      "3. Go grocery shopping\n",
      "4. Read a book\n",
      "5. Exercise\n"
     ]
    }
   ],
   "source": [
    "tasks = [\n",
    "    \"Finish homework\",\n",
    "    \"Clean the room\",\n",
    "    \"Go grocery shopping\",\n",
    "    \"Read a book\",\n",
    "    \"Exercise\"\n",
    "]\n",
    "\n",
    "def display_tasks():\n",
    "    print(\"Your To-Do List:\")\n",
    "    for index in range(len(tasks)):\n",
    "        print(f\"{index + 1}. {tasks[index]}\")\n",
    "\n",
    "display_tasks()"
   ]
  },
  {
   "cell_type": "markdown",
   "metadata": {},
   "source": [
    "Popcorn Hack 2\n",
    "- Javascript version of above python script"
   ]
  },
  {
   "cell_type": "code",
   "execution_count": 8,
   "metadata": {},
   "outputs": [
    {
     "data": {
      "application/javascript": "// List of tasks\nconst tasks = [\n    \"Finish homework\",\n    \"Clean the room\",\n    \"Go grocery shopping\",\n    \"Read a book\",\n    \"Exercise\"\n];\n\n// Function to display tasks with indices\nfunction displayTasks() {\n    console.log(\"Your To-Do List:\");\n    for (let index = 0; index < tasks.length; index++) {\n        console.log(`${index + 1}. ${tasks[index]}`); // Display task with its index\n    }\n}\n\n// Call the function\ndisplayTasks();\n",
      "text/plain": [
       "<IPython.core.display.Javascript object>"
      ]
     },
     "metadata": {},
     "output_type": "display_data"
    }
   ],
   "source": [
    "%%javascript\n",
    "\n",
    "const tasks = [\n",
    "    \"Finish homework\",\n",
    "    \"Clean the room\",\n",
    "    \"Go grocery shopping\",\n",
    "    \"Read a book\",\n",
    "    \"Exercise\"\n",
    "];\n",
    "\n",
    "function displayTasks() {\n",
    "    console.log(\"Your To-Do List:\");\n",
    "    for (let index = 0; index < tasks.length; index++) {\n",
    "        console.log(`${index + 1}. ${tasks[index]}`); // Display task with its index\n",
    "    }\n",
    "}\n",
    "\n",
    "displayTasks();"
   ]
  },
  {
   "cell_type": "markdown",
   "metadata": {},
   "source": [
    "Homework\n",
    "- Iterating through a new task list with different elements"
   ]
  },
  {
   "cell_type": "code",
   "execution_count": 9,
   "metadata": {},
   "outputs": [
    {
     "name": "stdout",
     "output_type": "stream",
     "text": [
      "Your To-Do List:\n",
      "1. Wake up\n",
      "2. Brush teeth\n",
      "3. Get dressed\n",
      "4. Eat breakfast\n",
      "5. Go to school\n"
     ]
    }
   ],
   "source": [
    "tasks = [\n",
    "    \"Wake up\",\n",
    "    \"Brush teeth\",\n",
    "    \"Get dressed\",\n",
    "    \"Eat breakfast\",\n",
    "    \"Go to school\"\n",
    "]\n",
    "\n",
    "def display_tasks():\n",
    "    print(\"Your To-Do List:\")\n",
    "    for index in range(len(tasks)):\n",
    "        print(f\"{index + 1}. {tasks[index]}\")\n",
    "\n",
    "display_tasks()"
   ]
  },
  {
   "cell_type": "markdown",
   "metadata": {},
   "source": [
    "### 3.8.4\n",
    "Popcorn Hack 1\n",
    "- Nested loops\n",
    "- Iterate through 10-20 5 times, breaking each time when the iterator var = 15"
   ]
  },
  {
   "cell_type": "code",
   "execution_count": 10,
   "metadata": {},
   "outputs": [
    {
     "data": {
      "application/javascript": "for (let i = 0; i < 5; i++)\n  for (let i = 10; i < 20; i++) {\n    if (i === 15) {\n        break;\n    }\n    console.log(i);\n}\n",
      "text/plain": [
       "<IPython.core.display.Javascript object>"
      ]
     },
     "metadata": {},
     "output_type": "display_data"
    }
   ],
   "source": [
    "%%javascript\n",
    "for (let i = 0; i < 5; i++)\n",
    "  for (let i = 10; i < 20; i++) {\n",
    "    if (i === 15) {\n",
    "        break;\n",
    "    }\n",
    "    console.log(i);\n",
    "}"
   ]
  },
  {
   "cell_type": "markdown",
   "metadata": {},
   "source": [
    "Popcorn Hack 2\n",
    "- Iterate through 1-30, continuing on nums divisible by 3\n",
    "- continue just skips to the next iteration, or step of loop"
   ]
  },
  {
   "cell_type": "code",
   "execution_count": 11,
   "metadata": {},
   "outputs": [
    {
     "name": "stdout",
     "output_type": "stream",
     "text": [
      "1\n",
      "2\n",
      "4\n",
      "5\n",
      "7\n",
      "8\n",
      "10\n",
      "11\n",
      "13\n",
      "14\n",
      "16\n",
      "17\n",
      "19\n",
      "20\n",
      "22\n",
      "23\n",
      "25\n",
      "26\n",
      "28\n",
      "29\n"
     ]
    }
   ],
   "source": [
    "#continue on numbers divisible by 3 from 1-30\n",
    "\n",
    "for i in range(1,31):\n",
    "    if i % 3 == 0:\n",
    "        continue\n",
    "    print(i)"
   ]
  },
  {
   "cell_type": "markdown",
   "metadata": {},
   "source": [
    "Homework\n",
    "- javascript cell running loop 10 times, each time runs another loop with iterator var starting at 5 ending at 15, step is 2. breaks if i > 10\n",
    "- python cell with loop iterating through nums 1-50, continues if num is a perfect square"
   ]
  },
  {
   "cell_type": "code",
   "execution_count": 15,
   "metadata": {},
   "outputs": [
    {
     "data": {
      "application/javascript": "for (let i = 0; i < 10; i++)\n  for (let i = 5; i < 15; i+=2) {\n    if (i > 10) {\n        break;\n    }\n    console.log(i);\n}\n",
      "text/plain": [
       "<IPython.core.display.Javascript object>"
      ]
     },
     "metadata": {},
     "output_type": "display_data"
    }
   ],
   "source": [
    "%%javascript\n",
    "for (let i = 0; i < 10; i++)\n",
    "  for (let i = 5; i < 15; i+=2) {\n",
    "    if (i > 10) {\n",
    "        break;\n",
    "    }\n",
    "    console.log(i);\n",
    "}"
   ]
  },
  {
   "cell_type": "code",
   "execution_count": 17,
   "metadata": {},
   "outputs": [
    {
     "name": "stdout",
     "output_type": "stream",
     "text": [
      "1 is a perfect square\n",
      "This number is 2\n",
      "This number is 3\n",
      "4 is a perfect square\n",
      "This number is 5\n",
      "This number is 6\n",
      "This number is 7\n",
      "This number is 8\n",
      "9 is a perfect square\n",
      "This number is 10\n",
      "This number is 11\n",
      "This number is 12\n",
      "This number is 13\n",
      "This number is 14\n",
      "This number is 15\n",
      "16 is a perfect square\n",
      "This number is 17\n",
      "This number is 18\n",
      "This number is 19\n",
      "This number is 20\n",
      "This number is 21\n",
      "This number is 22\n",
      "This number is 23\n",
      "This number is 24\n",
      "25 is a perfect square\n",
      "This number is 26\n",
      "This number is 27\n",
      "This number is 28\n",
      "This number is 29\n",
      "This number is 30\n",
      "This number is 31\n",
      "This number is 32\n",
      "This number is 33\n",
      "This number is 34\n",
      "This number is 35\n",
      "36 is a perfect square\n",
      "This number is 37\n",
      "This number is 38\n",
      "This number is 39\n",
      "This number is 40\n",
      "This number is 41\n",
      "This number is 42\n",
      "This number is 43\n",
      "This number is 44\n",
      "This number is 45\n",
      "This number is 46\n",
      "This number is 47\n",
      "This number is 48\n",
      "49 is a perfect square\n",
      "This number is 50\n"
     ]
    }
   ],
   "source": [
    "import math\n",
    "\n",
    "for i in range(1,51):\n",
    "    if math.sqrt(i) == math.floor(math.sqrt(i)):\n",
    "        print(f\"{i} is a perfect square\")\n",
    "        continue\n",
    "    print(f\"This number is {i}\")"
   ]
  },
  {
   "cell_type": "markdown",
   "metadata": {},
   "source": [
    "## 3.2\n",
    "\n",
    "Data abstraction involves using complex data structures to group related information. For instance, lists and dictionaries provide built-in mechanisms to manage collections of data. Functions and classes further enable creating reusable blocks of code or custom objects. JavaScript has arrays and objects as primary data structures. Arrays allow you to handle ordered lists, while objects offer key-value pair storage. JavaScript's ability to create objects and arrays provides flexibility to model complex real-world scenarios with ease.\n",
    "\n",
    "---\n",
    "\n",
    "Popcorn Hack 1\n",
    "- Abstraction with dictionary, get value from key"
   ]
  },
  {
   "cell_type": "code",
   "execution_count": 1,
   "metadata": {},
   "outputs": [
    {
     "name": "stdout",
     "output_type": "stream",
     "text": [
      "1\n"
     ]
    }
   ],
   "source": [
    "fruits = {\"bananas\": 1,\"apples\": 2, \"pears\": 3}\n",
    "print(fruits[\"bananas\"])"
   ]
  },
  {
   "cell_type": "markdown",
   "metadata": {},
   "source": [
    "Popcorn Hack 2\n",
    "- simple calculator that takes 2 nums and an operator, print result"
   ]
  },
  {
   "cell_type": "code",
   "execution_count": 2,
   "metadata": {},
   "outputs": [
    {
     "name": "stdout",
     "output_type": "stream",
     "text": [
      "Result is 42\n"
     ]
    }
   ],
   "source": [
    "firstnum = input(\"enter first num: \")\n",
    "secondnum = input(\"enter second num: \")\n",
    "op = input(\"enter operator \")\n",
    "if op == \"+\":\n",
    "    print(f\"Result is {int(firstnum)+int(secondnum)}\")\n",
    "elif op == \"-\":\n",
    "    print(f\"Result is {int(firstnum)-int(secondnum)}\")\n",
    "elif op == \"*\":\n",
    "    print(f\"Result is {int(firstnum)*int(secondnum)}\")\n",
    "elif op == \"/\":\n",
    "    print(f\"Result is {int(firstnum)/int(secondnum)}\")"
   ]
  },
  {
   "cell_type": "markdown",
   "metadata": {},
   "source": [
    "Popcorn Hack 3\n",
    "- When given a table of strings, multiply each string by 3 and return new table"
   ]
  },
  {
   "cell_type": "code",
   "execution_count": 4,
   "metadata": {},
   "outputs": [
    {
     "name": "stdout",
     "output_type": "stream",
     "text": [
      "['SampleSampleSample', 'TextTextText', 'HelloHelloHello']\n"
     ]
    }
   ],
   "source": [
    "strings = [\"Sample\", \"Text\", \"Hello\"]\n",
    "newstrs = []\n",
    "n=3\n",
    "for str in strings:\n",
    "    newstrs.append(str*3)\n",
    "print(newstrs)"
   ]
  },
  {
   "cell_type": "markdown",
   "metadata": {},
   "source": [
    "Popcorn Hack 4\n",
    "- Given 2 sets, have function that returns whether or not the sets have a similar element\n",
    "- Use 2 for loops (for both sets)"
   ]
  },
  {
   "cell_type": "code",
   "execution_count": 7,
   "metadata": {},
   "outputs": [
    {
     "name": "stdout",
     "output_type": "stream",
     "text": [
      "False\n",
      "True\n"
     ]
    }
   ],
   "source": [
    "set1 = {1,2,3}\n",
    "set2 = {4,5}\n",
    "set3 = {3,4}\n",
    "def simsets(s1,s2):\n",
    "    similar = False\n",
    "    for i in s1:\n",
    "        for j in s2:\n",
    "            if i == j:\n",
    "                similar = True\n",
    "    return similar\n",
    "print(simsets(set1,set2))\n",
    "print(simsets(set2,set3))"
   ]
  },
  {
   "cell_type": "markdown",
   "metadata": {},
   "source": [
    "Homework\n",
    "- Using different data types to create an individual profile of interests, hobbies, skills"
   ]
  },
  {
   "cell_type": "code",
   "execution_count": 7,
   "metadata": {},
   "outputs": [
    {
     "name": "stdout",
     "output_type": "stream",
     "text": [
      "Profile: {'name': 'Alex', 'age': 17, 'city': 'San Diego', 'favorite_color': 'blue'}\n",
      "Hobbies: ['coding', 'gaming', 'band']\n",
      "New Profile: {'name': 'Alex', 'age': 17, 'city': 'San Diego', 'favorite_color': 'blue', 'hobbies': ['coding', 'gaming', 'band']}\n",
      "Is gaming avaliable today? True\n",
      "I have 3 hobbies\n",
      "Favorite hobbies: gaming, band\n",
      "Skills: {'playing trombone', 'tech-savvy', 'good at math'}\n",
      "New skill: None\n",
      "Total cost: $45.00\n"
     ]
    }
   ],
   "source": [
    "#part 1\n",
    "profile = {\"name\": \"Alex\", \"age\": 17, \"city\": \"San Diego\", \"favorite_color\": \"blue\"}\n",
    "print(\"Profile:\",profile)\n",
    "\n",
    "#part 2\n",
    "hobbies = [\"coding\", \"gaming\", \"band\"]\n",
    "print(\"Hobbies:\",hobbies)\n",
    "\n",
    "#part 3\n",
    "profile[\"hobbies\"] = hobbies\n",
    "print(\"New Profile:\",profile)\n",
    "\n",
    "#part 4\n",
    "has_hobby = True\n",
    "print(f\"Is {hobbies[1]} avaliable today? {has_hobby}\")\n",
    "\n",
    "#part 5\n",
    "total_hobbies = len(hobbies)\n",
    "print(f\"I have {total_hobbies} hobbies\")\n",
    "\n",
    "#part 6\n",
    "favorite_hobbies = (\"gaming, band\")\n",
    "print(\"Favorite hobbies:\",favorite_hobbies)\n",
    "\n",
    "#part 7\n",
    "skills = {\"good at math\",\"tech-savvy\",\"playing trombone\"}\n",
    "print(\"Skills:\",skills)\n",
    "\n",
    "#part 8\n",
    "new_skill = None\n",
    "print(\"New skill:\",new_skill)\n",
    "\n",
    "#part 9\n",
    "total_cost = float(len(hobbies)*5 + len(skills)*10)\n",
    "print(f\"Total cost: ${total_cost:.2f}\")"
   ]
  },
  {
   "cell_type": "markdown",
   "metadata": {},
   "source": [
    "## 3.1\n",
    "\n",
    "In Python, variables are created simply by assigning a value to a name, without needing to declare a specific type (e.g., x = 5). Python automatically determines the type based on the value assigned. Variables can hold different data types, including integers, floats, strings, and more. In JavaScript, variables are declared using let, const, or the older var keyword. let and const are preferred, as they allow for block-scoped variables. const is used for values that shouldn’t change, while let is used for reassignable values (e.g., let age = 30).\n",
    "\n",
    "---\n",
    "\n",
    "Popcorn Hack 1\n",
    "- Getting value from key in dict"
   ]
  },
  {
   "cell_type": "code",
   "execution_count": 8,
   "metadata": {},
   "outputs": [
    {
     "data": {
      "application/javascript": "\nvar fruits = {\n    1: \"fruit\",\n    2: \"fruit\",\n    3: \"fruit\"\n};\n\nconsole.log(\"Fruit with key 3:\", fruits[3]);\n",
      "text/plain": [
       "<IPython.core.display.Javascript object>"
      ]
     },
     "metadata": {},
     "output_type": "display_data"
    }
   ],
   "source": [
    "%%javascript\n",
    "\n",
    "var fruits = {\n",
    "    1: \"fruit\",\n",
    "    2: \"fruit\",\n",
    "    3: \"fruit\"\n",
    "};\n",
    "\n",
    "console.log(\"Fruit with key 3:\", fruits[3]);"
   ]
  },
  {
   "cell_type": "markdown",
   "metadata": {},
   "source": [
    "Popcorn Hack 2\n",
    "- Math game that randomly generates two nums and an operator, ask user for answer"
   ]
  },
  {
   "cell_type": "code",
   "execution_count": 9,
   "metadata": {},
   "outputs": [
    {
     "name": "stdout",
     "output_type": "stream",
     "text": [
      "Welcome to the Math Quiz Game!\n",
      "Answer as many questions as you can. Type 'q' to quit anytime.\n",
      "\n",
      "What is 15 * 4?\n",
      "Correct!\n",
      "What is 10 * 3?\n",
      "Oops! The correct answer was 30.\n",
      "What is 7 + 8?\n",
      "Oops! The correct answer was 15.\n",
      "What is 7 * 4?\n",
      "Correct!\n",
      "What is 12 * 3?\n",
      "Oops! The correct answer was 36.\n",
      "What is 13 * 8?\n",
      "Correct!\n",
      "What is 12 * 6?\n",
      "Correct!\n",
      "What is 11 / 7?\n",
      "Oops! The correct answer was 1.5714285714285714.\n",
      "What is 9 - 6?\n",
      "Thanks for playing! Your final score is 4.\n"
     ]
    }
   ],
   "source": [
    "import random\n",
    "\n",
    "def play_game():\n",
    "    score = 0\n",
    "    operators = ['+', '-', '*','/']\n",
    "\n",
    "    print(\"Welcome to the Math Quiz Game!\")\n",
    "    print(\"Answer as many questions as you can. Type 'q' to quit anytime.\\n\")\n",
    "\n",
    "    while True:\n",
    "        # Generate two random numbers and choose a random operator\n",
    "        num1 = random.randint(1, 20)\n",
    "        num2 = random.randint(1, 20)\n",
    "        op = random.choice(operators)\n",
    "\n",
    "        # Calculate the correct answer based on the operator\n",
    "        if op == '+':\n",
    "            answer = num1 + num2\n",
    "        elif op == '-':\n",
    "            answer = num1 - num2\n",
    "        elif op == '*':\n",
    "            answer = num1 * num2\n",
    "        else:\n",
    "            answer = num1 / num2\n",
    "\n",
    "        # Ask the player the question\n",
    "        print(f\"What is {num1} {op} {num2}?\")\n",
    "        player_input = input(\"Your answer (or type 'q' to quit): \")\n",
    "\n",
    "        # Check if the player wants to quit\n",
    "        if player_input.lower() == 'q':\n",
    "            break\n",
    "\n",
    "        # Check if the answer is correct\n",
    "        try:\n",
    "            player_answer = int(player_input)\n",
    "            if player_answer == answer:\n",
    "                print(\"Correct!\")\n",
    "                score += 1\n",
    "            else:\n",
    "                print(f\"Oops! The correct answer was {answer}.\")\n",
    "        except ValueError:\n",
    "            print(\"Invalid input, please enter a number or 'q' to quit.\")\n",
    "\n",
    "    print(f\"Thanks for playing! Your final score is {score}.\")\n",
    "\n",
    "# Start the game\n",
    "play_game()\n"
   ]
  },
  {
   "cell_type": "markdown",
   "metadata": {},
   "source": [
    "Popcorn Hack 3\n",
    "- Temp converter from Celsius to Farenheit using fixed conversion rate"
   ]
  },
  {
   "cell_type": "code",
   "execution_count": 13,
   "metadata": {},
   "outputs": [
    {
     "data": {
      "application/javascript": "\n// Temperature Converter in JavaScript\nlet temperature = parseFloat(prompt(\"Enter the temperature:\"));\nlet conversionType = prompt(\"Convert to (C)elsius or (F)ahrenheit?\").toUpperCase();\n\nif (conversionType === \"C\") {\n    // Convert Fahrenheit to Celsius\n    let celsius = (temperature - 32) * (5 / 9);\n    console.log(`${temperature}°F is equal to ${celsius.toFixed(2)}°C`);\n} else if (conversionType === \"F\") {\n    // Convert Celsius to Fahrenheit\n    let fahrenheit = (temperature * (9 / 5)) + 32;\n    console.log(`${temperature}°C is equal to ${fahrenheit.toFixed(2)}°F`);\n} else {\n    console.log(\"Invalid conversion type entered.\");\n}\n",
      "text/plain": [
       "<IPython.core.display.Javascript object>"
      ]
     },
     "metadata": {},
     "output_type": "display_data"
    }
   ],
   "source": [
    "%%javascript\n",
    "\n",
    "// Temperature Converter in JavaScript\n",
    "let temperature = parseFloat(prompt(\"Enter the temperature:\"));\n",
    "let conversionType = prompt(\"Convert to (C)elsius or (F)ahrenheit?\").toUpperCase();\n",
    "\n",
    "if (conversionType === \"C\") {\n",
    "    // Convert Fahrenheit to Celsius\n",
    "    let celsius = (temperature - 32) * (5 / 9);\n",
    "    console.log(`${temperature}°F is equal to ${celsius.toFixed(2)}°C`);\n",
    "} else if (conversionType === \"F\") {\n",
    "    // Convert Celsius to Fahrenheit\n",
    "    let fahrenheit = (temperature * (9 / 5)) + 32;\n",
    "    console.log(`${temperature}°C is equal to ${fahrenheit.toFixed(2)}°F`);\n",
    "} else {\n",
    "    console.log(\"Invalid conversion type entered.\");\n",
    "}"
   ]
  },
  {
   "cell_type": "code",
   "execution_count": 16,
   "metadata": {},
   "outputs": [],
   "source": [
    "#Python\n",
    "\n",
    "# Temperature Converter Template\n",
    "\n",
    "# Function to convert temperatures\n",
    "def temperature_converter():\n",
    "    try:\n",
    "        # Prompt the user for the temperature\n",
    "        temperature = float(input(\"Enter the temperature: \"))\n",
    "        \n",
    "        # Ask the user for the conversion type\n",
    "        conversion_type = input(\"Convert to Celsius or Fahrenheit? \").strip().upper()\n",
    "\n",
    "        if conversion_type == \"C\":\n",
    "            pass\n",
    "            # TODO: Convert Fahrenheit to Celsius\n",
    "            # celsius = (temperature - 32) * (5 / 9)\n",
    "            # print(f\"{temperature}°F is equal to {celsius:.2f}°C\")\n",
    "\n",
    "        elif conversion_type == \"F\":\n",
    "            pass\n",
    "            # TODO: Convert Celsius to Fahrenheit\n",
    "            # fahrenheit = (temperature * (9 / 5)) + 32\n",
    "            # print(f\"{temperature}°C is equal to {fahrenheit:.2f}°F\")\n",
    "\n",
    "        else:\n",
    "            print(\"Invalid conversion type entered. Please enter 'C' or 'F'.\")\n",
    "\n",
    "    except ValueError:\n",
    "        print(\"Invalid input. Please enter a numeric temperature value.\")\n",
    "\n",
    "# Call the temperature converter function\n",
    "temperature_converter()"
   ]
  },
  {
   "cell_type": "markdown",
   "metadata": {},
   "source": [
    "Homework\n",
    "- Shopping list that accepts names and prices for items\n",
    "- Calculates price of all items combined"
   ]
  },
  {
   "cell_type": "code",
   "execution_count": 20,
   "metadata": {},
   "outputs": [
    {
     "name": "stdout",
     "output_type": "stream",
     "text": [
      "Added item \"eggs\" of price $3.50 to list.\n",
      "Added item \"milk\" of price $4.25 to list.\n",
      "Added item \"flour\" of price $5.99 to list.\n",
      "Total Cost: $13.74\n"
     ]
    }
   ],
   "source": [
    "# Shopping List Calculator\n",
    "\n",
    "items = []\n",
    "total_cost = 0\n",
    "\n",
    "while True:\n",
    "    try:\n",
    "        name = input(\"Enter the name of the item (or 'done' to calculate total): \")\n",
    "        if name == \"done\":\n",
    "            for item in items:\n",
    "                total_cost+=item[1]\n",
    "            print(f\"Total Cost: ${total_cost:.2f}\")\n",
    "            break\n",
    "        price = float(input(\"Enter price of item: \")) \n",
    "        items.append((name,price))\n",
    "        print(f\"Added item \\\"{name}\\\" of price ${price:.2f} to list.\")\n",
    "    except ValueError:\n",
    "        print(\"Please enter a valid price\")\n",
    "\n",
    "\n",
    "    "
   ]
  },
  {
   "cell_type": "code",
   "execution_count": 21,
   "metadata": {},
   "outputs": [
    {
     "data": {
      "application/javascript": "\nfunction convertMeasurement(quantity, fromUnit, toUnit) {\n    const conversions = {\n        tablespoon: {\n            teaspoon: 3,\n            cup: 1 / 16\n        },\n        teaspoon: {\n            tablespoon: 1 / 3,\n            cup: 1 / 48\n        },\n        cup: {\n            tablespoon: 16,\n            teaspoon: 48\n        }\n    };\n\n    return quantity * conversions[fromUnit][toUnit];\n}\n\nwhile (true) {\n    const input = prompt(\"Enter an ingredient (or type 'exit' to quit):\");\n\n    if (input.toLowerCase() === 'exit') {\n        break;\n    }\n\n    const quantity = parseFloat(prompt(\"Enter the quantity:\"));\n    const fromUnit = prompt(\"Enter the current unit (tablespoon, teaspoon, cup):\").toLowerCase();\n    const toUnit = prompt(\"Enter the unit to convert to (tablespoon, teaspoon, cup):\").toLowerCase();\n\n    if (!quantity || !fromUnit || !toUnit || !conversions[fromUnit] || !conversions[toUnit]) {\n        alert(\"Invalid input. Please try again.\");\n        continue;\n    }\n\n    const convertedQuantity = convertMeasurement(quantity, fromUnit, toUnit);\n    alert(`${quantity} ${fromUnit}(s) is equal to ${convertedQuantity} ${toUnit}(s)`);\n}\n",
      "text/plain": [
       "<IPython.core.display.Javascript object>"
      ]
     },
     "metadata": {},
     "output_type": "display_data"
    }
   ],
   "source": [
    "%%javascript\n",
    "\n",
    "//Measurement Conversion\n",
    "\n",
    "function convertMeasurement(quantity, fromUnit, toUnit) {\n",
    "    const conversions = {\n",
    "        tablespoon: {\n",
    "            teaspoon: 3,\n",
    "            cup: 1 / 16\n",
    "        },\n",
    "        teaspoon: {\n",
    "            tablespoon: 1 / 3,\n",
    "            cup: 1 / 48\n",
    "        },\n",
    "        cup: {\n",
    "            tablespoon: 16,\n",
    "            teaspoon: 48\n",
    "        }\n",
    "    };\n",
    "\n",
    "    return quantity * conversions[fromUnit][toUnit];\n",
    "}\n",
    "\n",
    "while (true) {\n",
    "    const input = prompt(\"Enter an ingredient (or type 'exit' to quit):\");\n",
    "\n",
    "    if (input.toLowerCase() === 'exit') {\n",
    "        break;\n",
    "    }\n",
    "\n",
    "    const quantity = parseFloat(prompt(\"Enter the quantity:\"));\n",
    "    const fromUnit = prompt(\"Enter the current unit (tablespoon, teaspoon, cup):\").toLowerCase();\n",
    "    const toUnit = prompt(\"Enter the unit to convert to (tablespoon, teaspoon, cup):\").toLowerCase();\n",
    "\n",
    "    if (!quantity || !fromUnit || !toUnit || !conversions[fromUnit] || !conversions[toUnit]) {\n",
    "        alert(\"Invalid input. Please try again.\");\n",
    "        continue;\n",
    "    }\n",
    "\n",
    "    const convertedQuantity = convertMeasurement(quantity, fromUnit, toUnit);\n",
    "    alert(`${quantity} ${fromUnit}(s) is equal to ${convertedQuantity} ${toUnit}(s)`);\n",
    "}\n"
   ]
  },
  {
   "cell_type": "markdown",
   "metadata": {},
   "source": [
    "## 3.4\n",
    "\n",
    "In Python, strings can be created using single, double, or triple quotes ('Hello', \"Hello\", or '''Hello'''). Python strings are immutable, meaning their contents cannot be changed directly. However, you can create new strings by concatenating or slicing. Useful string methods include upper(), lower(), split(), and more. JavaScript strings are defined with either single or double quotes ('Hello' or \"Hello\"). Like Python, JavaScript strings are immutable. Common string methods include toUpperCase(), toLowerCase(), and split(). Template literals in JavaScript, defined with backticks, allow easy string interpolation (Hello, ${name}).\n",
    "\n",
    "---\n",
    "\n",
    "Popcorn Hack 1\n",
    "- Using concatenation/string interpolation to create a string with variables in it"
   ]
  },
  {
   "cell_type": "code",
   "execution_count": 3,
   "metadata": {},
   "outputs": [
    {
     "data": {
      "application/javascript": "\nlet movie = \"pulp fiction\";\nlet sport = \"baseball\";\nlet petName = \"dudu\";\n\nlet concat = \"My favorite movie is \" + movie + \", I like to play \" + sport + \", and my pets name is \" + petName;\nlet interp = `My favorite movie is ${movie}, I like to play ${sport}, and my pets name is ${petName}`;\n\nconsole.log(concat)\nconsole.log(interp)\n",
      "text/plain": [
       "<IPython.core.display.Javascript object>"
      ]
     },
     "metadata": {},
     "output_type": "display_data"
    }
   ],
   "source": [
    "%%javascript\n",
    "\n",
    "let movie = \"pulp fiction\";\n",
    "let sport = \"baseball\";\n",
    "let petName = \"dudu\";\n",
    "\n",
    "let concat = \"My favorite movie is \" + movie + \", I like to play \" + sport + \", and my pets name is \" + petName;\n",
    "let interp = `My favorite movie is ${movie}, I like to play ${sport}, and my pets name is ${petName}`;\n",
    "\n",
    "console.log(concat);\n",
    "console.log(interp);\n"
   ]
  },
  {
   "cell_type": "markdown",
   "metadata": {},
   "source": [
    "Popcorn Hack 2\n",
    "- Slicing a string to log certain parts of it"
   ]
  },
  {
   "cell_type": "code",
   "execution_count": 22,
   "metadata": {},
   "outputs": [
    {
     "data": {
      "application/javascript": "\nlet phrase = \"A journey of a thousand miles begins with a single step\";\n\nconsole.log(phrase.slice(2,9));\nconsole.log(phrase.slice(-31,-26));\nconsole.log(phrase.slice(30));\n",
      "text/plain": [
       "<IPython.core.display.Javascript object>"
      ]
     },
     "metadata": {},
     "output_type": "display_data"
    }
   ],
   "source": [
    "%%javascript\n",
    "\n",
    "let phrase = \"A journey of a thousand miles begins with a single step\";\n",
    "\n",
    "console.log(phrase.slice(2,9));\n",
    "console.log(phrase.slice(-31,-26));\n",
    "console.log(phrase.slice(30));"
   ]
  },
  {
   "cell_type": "markdown",
   "metadata": {},
   "source": [
    "Popcorn Hack 3\n",
    "- Removing all letters in my name from a string using list comprehension and join method"
   ]
  },
  {
   "cell_type": "code",
   "execution_count": 11,
   "metadata": {},
   "outputs": [
    {
     "name": "stdout",
     "output_type": "stream",
     "text": [
      "I ov rning python!\n"
     ]
    }
   ],
   "source": [
    "def remove_name(str):\n",
    "    name = \"alexALEX\"\n",
    "    altered = \"\".join([char for char in str if char not in name])\n",
    "    return altered\n",
    "msg = \"I Love learning python!\"\n",
    "print(remove_name(msg))"
   ]
  },
  {
   "cell_type": "markdown",
   "metadata": {},
   "source": [
    "Popcorn Hack 4 (reverse order)\n",
    "- Reversing a string using list slicing shorthand (go backwards in list from end)"
   ]
  },
  {
   "cell_type": "code",
   "execution_count": 17,
   "metadata": {},
   "outputs": [
    {
     "name": "stdout",
     "output_type": "stream",
     "text": [
      "python in coding am I everybody Hello\n"
     ]
    }
   ],
   "source": [
    "def reverse_words(str):\n",
    "    words = str.split()\n",
    "    rev = \" \".join(words[::-1])\n",
    "    return rev\n",
    "\n",
    "msg = \"Hello everybody I am coding in python\"\n",
    "print(reverse_words(msg))"
   ]
  },
  {
   "cell_type": "markdown",
   "metadata": {},
   "source": [
    "Homework\n",
    "- Generate a greeting given 'greeting', 'first_name', 'last_name' variables\n",
    "- Form string with concatenation\n",
    "- Palendrome checker, reverse string and return if equal to first string"
   ]
  },
  {
   "cell_type": "code",
   "execution_count": 23,
   "metadata": {},
   "outputs": [
    {
     "data": {
      "application/javascript": "\nlet greeting = \"hello\";\nlet first_name = \"John\";\nlet last_name = \"Doe\";\n\nconsole.log(greeting + \" \" + first_name + \" \" + last_name);\n",
      "text/plain": [
       "<IPython.core.display.Javascript object>"
      ]
     },
     "metadata": {},
     "output_type": "display_data"
    }
   ],
   "source": [
    "%%javascript\n",
    "\n",
    "//Greeting Generator\n",
    "let greeting = \"hello\";\n",
    "let first_name = \"John\";\n",
    "let last_name = \"Doe\";\n",
    "\n",
    "console.log(greeting + \" \" + first_name + \" \" + last_name);"
   ]
  },
  {
   "cell_type": "code",
   "execution_count": 30,
   "metadata": {},
   "outputs": [
    {
     "name": "stdout",
     "output_type": "stream",
     "text": [
      "False\n",
      "True\n",
      "True\n"
     ]
    }
   ],
   "source": [
    "#Palendrome Checker\n",
    "\n",
    "def is_palendrome(str):\n",
    "    return str.replace(\" \",\"\")==str[::-1].replace(\" \",\"\")\n",
    "\n",
    "print(is_palendrome(\"python\"))\n",
    "print(is_palendrome(\"race car\"))\n",
    "print(is_palendrome(\"())(\"))"
   ]
  },
  {
   "cell_type": "markdown",
   "metadata": {},
   "source": [
    "## 3.3\n",
    "\n",
    "Mathematical expressions in Python use standard arithmetic operators like +, -, *, and /. Python also supports // for integer division and ** for exponentiation. It has built-in math functions, like math.sqrt() for square root and math.pow() for power. JavaScript provides arithmetic operators and built-in functions like Math.sqrt(), Math.pow(), and others to perform various calculations. Parentheses can be used to control the order of operations, and JavaScript also offers shorthand notations like ++ for increment and -- for decrement.\n",
    "\n",
    "---\n",
    "\n",
    "Popcorn Hack 1\n",
    "- Perform all 4 main mathematical operations on 2 nums"
   ]
  },
  {
   "cell_type": "code",
   "execution_count": 2,
   "metadata": {},
   "outputs": [
    {
     "name": "stdout",
     "output_type": "stream",
     "text": [
      "Add: 12\n",
      "Subtract: 2\n",
      "Multiply: 35\n",
      "Divide: 1.4\n"
     ]
    }
   ],
   "source": [
    "a, b = 7, 5\n",
    "\n",
    "Add = a + b\n",
    "Subtract = a - b\n",
    "Multiply = a * b\n",
    "Divide = a / b if b != 0 else 'undefined'\n",
    "\n",
    "print(f\"Add: {Add}\")\n",
    "print(f\"Subtract: {Subtract}\")\n",
    "print(f\"Multiply: {Multiply}\")\n",
    "print(f\"Divide: {Divide}\")"
   ]
  },
  {
   "cell_type": "markdown",
   "metadata": {},
   "source": [
    "Popcorn Hack 2\n",
    "- Fibbonaci sequence using function recursion"
   ]
  },
  {
   "cell_type": "code",
   "execution_count": 15,
   "metadata": {},
   "outputs": [
    {
     "name": "stdout",
     "output_type": "stream",
     "text": [
      "The 6th Fibonacci number is: 5\n"
     ]
    }
   ],
   "source": [
    "def fibonacc(n):\n",
    "    if n <= 0:\n",
    "        return \"invalid\"\n",
    "    elif n == 1:\n",
    "        return 0\n",
    "    elif n == 2:\n",
    "        return 1\n",
    "    else:\n",
    "        return fibonacc(n - 1) + fibonacc(n - 2)\n",
    "\n",
    "\n",
    "n = 6\n",
    "print(f\"The {n}th Fibonacci number is: {fibonacc(n)}\")"
   ]
  },
  {
   "cell_type": "markdown",
   "metadata": {},
   "source": [
    "Homework\n",
    "- Fibbonaci sequence using matrix exponentation"
   ]
  },
  {
   "cell_type": "code",
   "execution_count": 21,
   "metadata": {},
   "outputs": [
    {
     "name": "stdout",
     "output_type": "stream",
     "text": [
      "The 34th Fibonacci number is: 5702887\n"
     ]
    }
   ],
   "source": [
    "import numpy as np\n",
    "\n",
    "def matrix_multiply(A, B):\n",
    "    return np.dot(A, B)\n",
    "\n",
    "def matrix_exponentiate(matrix, power):\n",
    "    result = np.identity(len(matrix), dtype=int) \n",
    "    while power:\n",
    "        if power % 2 == 1:\n",
    "            result = matrix_multiply(result, matrix)\n",
    "        matrix = matrix_multiply(matrix, matrix)\n",
    "        power //= 2\n",
    "    return result\n",
    "\n",
    "def fibonacci(n):\n",
    "    if n <= 0:\n",
    "        return \"Input must be a positive integer.\"\n",
    "    elif n == 1:\n",
    "        return 0 \n",
    "    elif n == 2:\n",
    "        return 1 \n",
    "\n",
    "    F = np.array([[1, 1],\n",
    "                  [1, 0]], dtype=int)\n",
    "    result = matrix_exponentiate(F, n - 1)\n",
    "    \n",
    "    return result[0][0]\n",
    "\n",
    "n = int(input(\"Enter the position in the Fibonacci sequence: \"))\n",
    "result = fibonacci(n)\n",
    "print(f\"The {n}th Fibonacci number is: {result}\")"
   ]
  },
  {
   "cell_type": "markdown",
   "metadata": {},
   "source": [
    "## 3.5\n",
    "\n",
    "A Boolean expression in Python is an expression that evaluates to True or False. These expressions often involve comparisons (==, !=, <, >) and logical operators (and, or, not). They are essential in controlling program flow and decision-making. JavaScript Boolean expressions function similarly, with comparison operators (===, !==, <, >) and logical operators (&&, ||, !). JavaScript distinguishes between strict equality (===) and loose equality (==), making it essential to understand their differences.\n",
    "\n",
    "---\n",
    "\n",
    "Popcorn Hack 1\n",
    "- Contrapositive Law, if one function/expression is true, then we know the other must be true"
   ]
  },
  {
   "cell_type": "code",
   "execution_count": 2,
   "metadata": {},
   "outputs": [
    {
     "name": "stdout",
     "output_type": "stream",
     "text": [
      "A is true, so B must also be true: True\n",
      "B is true, we cannot conclude anything about A.\n"
     ]
    }
   ],
   "source": [
    "def A():\n",
    "    return True  # Condition A\n",
    "\n",
    "def B():\n",
    "    return True  # Condition B\n",
    "\n",
    "# Original statement: if A then B\n",
    "if A():\n",
    "    print(\"A is true, so B must also be true:\", B())\n",
    "else:\n",
    "    print(\"A is false, we cannot conclude anything about B.\")\n",
    "\n",
    "# Contrapositive: if not B then not A\n",
    "if not B():\n",
    "    print(\"B is false, therefore A must also be false:\", not A())\n",
    "else:\n",
    "    print(\"B is true, we cannot conclude anything about A.\")"
   ]
  },
  {
   "cell_type": "markdown",
   "metadata": {},
   "source": [
    "Homework\n",
    "- Logical gates using two given booleans of True/False\n",
    "- AND, OR, NOT logical operators"
   ]
  },
  {
   "cell_type": "code",
   "execution_count": 14,
   "metadata": {},
   "outputs": [
    {
     "name": "stdout",
     "output_type": "stream",
     "text": [
      "Logic Gate Simulator\n",
      "\n",
      "Results:\n",
      "AND(True, False) = False\n",
      "OR(True, False) = True\n",
      "NOT(True) = False\n",
      "NOT(False) = True\n"
     ]
    }
   ],
   "source": [
    "def and_gate(input1, input2):\n",
    "    return input1 and input2\n",
    "\n",
    "def or_gate(input1, input2):\n",
    "    return input1 or input2\n",
    "\n",
    "def not_gate(input1):\n",
    "    return not input1\n",
    "\n",
    "print(\"Logic Gate Simulator\")\n",
    "a = input(\"Enter first input (True/False): \").strip().lower() == 'true'\n",
    "b = input(\"Enter second input (True/False): \").strip().lower() == 'true'\n",
    "\n",
    "print(\"\\nResults:\")\n",
    "print(f\"AND({a}, {b}) = {and_gate(a, b)}\")\n",
    "print(f\"OR({a}, {b}) = {or_gate(a, b)}\")\n",
    "print(f\"NOT({a}) = {not_gate(a)}\")\n",
    "print(f\"NOT({b}) = {not_gate(b)}\")"
   ]
  },
  {
   "cell_type": "markdown",
   "metadata": {},
   "source": [
    "## 3.6\n",
    "\n",
    "Python uses if, elif, and else to perform conditional checks. The program evaluates the condition and, if true, executes the corresponding code block. Python relies on indentation to define code blocks, which improves readability. In JavaScript, conditionals are handled using if, else if, and else. JavaScript uses curly braces {} to define code blocks.\n",
    "\n",
    "---\n",
    "\n",
    "Popcorn Hack 1\n",
    "- Evaluate a comparative expression in if statement to True/False"
   ]
  },
  {
   "cell_type": "code",
   "execution_count": 2,
   "metadata": {},
   "outputs": [
    {
     "data": {
      "application/javascript": "\nlet age = 17\n\nif (age >= 18) {\n    console.log(\"You are allowed to vote.\")\n} else {\n    console.log(\"You are not allowed to vote.\")\n}\n",
      "text/plain": [
       "<IPython.core.display.Javascript object>"
      ]
     },
     "metadata": {},
     "output_type": "display_data"
    }
   ],
   "source": [
    "%%javascript\n",
    "\n",
    "let age = 17;\n",
    "\n",
    "if (age >= 18) {\n",
    "    console.log(\"You are allowed to vote.\");\n",
    "} else {\n",
    "    console.log(\"You are not allowed to vote.\");\n",
    "}"
   ]
  },
  {
   "cell_type": "code",
   "execution_count": 3,
   "metadata": {},
   "outputs": [
    {
     "name": "stdout",
     "output_type": "stream",
     "text": [
      "You are not allowed to vote.\n"
     ]
    }
   ],
   "source": [
    "age = 17\n",
    "\n",
    "if age >= 18:\n",
    "    print(\"You are allowed to vote.\")\n",
    "else:\n",
    "    print(\"You are not allowed to vote.\")"
   ]
  },
  {
   "cell_type": "markdown",
   "metadata": {},
   "source": [
    "Popcorn Hack 2\n",
    "- Change condition of if statement with a variable holding boolean in expression"
   ]
  },
  {
   "cell_type": "code",
   "execution_count": 4,
   "metadata": {},
   "outputs": [
    {
     "data": {
      "application/javascript": "\nlet tired = True\n\nif (tired) {\n    console.log(\"You should go to sleep\")\n} else {\n    console.log(\"You are doing fine\")\n}\n",
      "text/plain": [
       "<IPython.core.display.Javascript object>"
      ]
     },
     "metadata": {},
     "output_type": "display_data"
    }
   ],
   "source": [
    "%%javascript\n",
    "\n",
    "let tired = True;\n",
    "\n",
    "if (tired) {\n",
    "    console.log(\"You should go to sleep\");\n",
    "} else {\n",
    "    console.log(\"You are doing fine\");\n",
    "}"
   ]
  },
  {
   "cell_type": "code",
   "execution_count": 5,
   "metadata": {},
   "outputs": [
    {
     "name": "stdout",
     "output_type": "stream",
     "text": [
      "You should go to sleep\n"
     ]
    }
   ],
   "source": [
    "tired = True\n",
    "if tired:\n",
    "    print(\"You should go to sleep\")\n",
    "else:\n",
    "    print(\"You are doing fine\")"
   ]
  },
  {
   "cell_type": "markdown",
   "metadata": {},
   "source": [
    "Popcorn Hack 3\n",
    "- use libraries within conditionals\n",
    "- math library to get math.pi constant (math.round too in js)"
   ]
  },
  {
   "cell_type": "code",
   "execution_count": 11,
   "metadata": {},
   "outputs": [
    {
     "name": "stdout",
     "output_type": "stream",
     "text": [
      "Pi is about 3\n"
     ]
    }
   ],
   "source": [
    "import math\n",
    "\n",
    "if round(math.pi) == 3:\n",
    "    print(\"Pi is about 3\")\n",
    "else:\n",
    "    print(\"Pi is not about 3\")"
   ]
  },
  {
   "cell_type": "code",
   "execution_count": 3,
   "metadata": {},
   "outputs": [
    {
     "data": {
      "application/javascript": "\nif (Math.round(Math.PI) == 3) {\n    console.log(\"Pi is about 3\");\n} else {\n    console.log(\"Pi is not about 3\");\n}\n",
      "text/plain": [
       "<IPython.core.display.Javascript object>"
      ]
     },
     "metadata": {},
     "output_type": "display_data"
    }
   ],
   "source": [
    "%%javascript\n",
    "\n",
    "if (Math.round(Math.PI) == 3) {\n",
    "    console.log(\"Pi is about 3\");\n",
    "} else {\n",
    "    console.log(\"Pi is not about 3\");\n",
    "}"
   ]
  },
  {
   "cell_type": "markdown",
   "metadata": {},
   "source": [
    "Homework\n",
    "- Trivia quiz, 5 questions created using function which asks for input each time\n",
    "- Check if answer equal to certain num, add to score if correct\n",
    "- Print score at end"
   ]
  },
  {
   "cell_type": "code",
   "execution_count": 11,
   "metadata": {},
   "outputs": [
    {
     "name": "stdout",
     "output_type": "stream",
     "text": [
      "Programming Trivia Quiz\n",
      "********************\n",
      "Question 1: What does HTML stand for?\n",
      "(1) Hyper Text Markup Language\n",
      "(2) High-Level Text Management Language\n",
      "(3) Hyperlink and Text Markup Language\n",
      "(4) Hyper Tool Markup Language\n",
      "Correct!\n",
      "Question 2: Which of the following languages is used for web development?\n",
      "(1) Python\n",
      "(2) C++\n",
      "(3) JavaScript\n",
      "(4) Assembly\n",
      "Correct!\n",
      "Question 3: What is CSS used for?\n",
      "(1) Creating dynamic content\n",
      "(2) Structuring content\n",
      "(3) Styling and laying out web pages\n",
      "(4) Managing databases\n",
      "Correct!\n",
      "Question 4: Which of the following is a version control system?\n",
      "(1) Node.js\n",
      "(2) Git\n",
      "(3) SQL\n",
      "(4) HTML\n",
      "Correct!\n",
      "Question 5: What does API stand for?\n",
      "(1) Advanced Programming Integration\n",
      "(2) Application Performance Indicator\n",
      "(3) Automated Program Interface\n",
      "(4) Application Programming Interface\n",
      "Correct!\n",
      "Thanks for playing! Your score: 5/5\n"
     ]
    }
   ],
   "source": [
    "print(\"Programming Trivia Quiz\")\n",
    "print(\"*\"*20)\n",
    "\n",
    "score = 0\n",
    "\n",
    "def check_ans(given_ans, correct_ans):\n",
    "    if given_ans == correct_ans:\n",
    "        print(\"Correct!\")\n",
    "        return True\n",
    "    else:\n",
    "        print(\"Sorry, that's incorrect.\")\n",
    "        return False\n",
    "def create_question(n,q,a1,a2,a3,a4):\n",
    "    print(\"Question \"+str(n)+\": \"+q+\"\\n(1) \"+a1+\"\\n(2) \"+a2+\"\\n(3) \"+a3+\"\\n(4) \"+a4)\n",
    "    return input(\"Answer: \")\n",
    "\n",
    "q1 = create_question(1,\"What does HTML stand for?\",\"Hyper Text Markup Language\",\"High-Level Text Management Language\",\"Hyperlink and Text Markup Language\",\"Hyper Tool Markup Language\")\n",
    "c1 = check_ans(q1,\"1\")\n",
    "if c1:\n",
    "    score+=1\n",
    "q2 = create_question(2,\"Which of the following languages is used for web development?\",\"Python\",\"C++\",\"JavaScript\",\"Assembly\")\n",
    "c2 = check_ans(q2,\"3\")\n",
    "if c2:\n",
    "    score+=1\n",
    "q3 = create_question(3,\"What is CSS used for?\",\"Creating dynamic content\",\"Structuring content\",\"Styling and laying out web pages\",\"Managing databases\")\n",
    "c3 = check_ans(q3,\"3\")\n",
    "if c3:\n",
    "    score+=1\n",
    "q4 = create_question(4,\"Which of the following is a version control system?\",\"Node.js\",\"Git\",\"SQL\",\"HTML\")\n",
    "c4 = check_ans(q4,\"2\")\n",
    "if c4:\n",
    "    score+=1\n",
    "q5 = create_question(5,\"What does API stand for?\",\"Advanced Programming Integration\",\"Application Performance Indicator\",\"Automated Program Interface\",\"Application Programming Interface\")\n",
    "c5 = check_ans(q5,\"4\")\n",
    "if c5:score+=1\n",
    "print(f\"Thanks for playing! Your score: {score}/5\")"
   ]
  },
  {
   "cell_type": "markdown",
   "metadata": {},
   "source": [
    "## 3.7\n",
    "\n",
    "Python allows nesting one if statement inside another, letting you check multiple layers of conditions. Similarly, JavaScript permits nesting if statements within each other. This is useful for more complex decisions or branching paths in your code. Nesting should be managed carefully to avoid deep, hard-to-read structures.\n",
    "\n",
    "---\n",
    "\n",
    "Popcorn Hack 1\n",
    "- Nested conditionals, check if 'age' above 15.5 then also if above 16 for additional printed statement"
   ]
  },
  {
   "cell_type": "code",
   "execution_count": 10,
   "metadata": {},
   "outputs": [
    {
     "name": "stdout",
     "output_type": "stream",
     "text": [
      "You are old enough to learn how to drive\n",
      "You are old enough to get your drivers license\n"
     ]
    }
   ],
   "source": [
    "age = 17\n",
    "\n",
    "if age >= 15.5:\n",
    "    print(\"You are old enough to learn how to drive\")\n",
    "    if age >= 16:\n",
    "        print(\"You are old enough to get your drivers license\")\n",
    "else:\n",
    "    print(\"You are not old enough to learn how to drive\")"
   ]
  },
  {
   "cell_type": "code",
   "execution_count": 16,
   "metadata": {},
   "outputs": [
    {
     "data": {
      "application/javascript": "\nlet age = 17;\n\nif (age>=15.5) {\n    console.log(\"You are old enough to learn how to drive\");\n    if (age>=16) {\n        console.log(\"You are old enough to get your drivers license\");\n    }\n} else {\n    console.log(\"You are not old enough to learn how to drive\");\n}\n",
      "text/plain": [
       "<IPython.core.display.Javascript object>"
      ]
     },
     "metadata": {},
     "output_type": "display_data"
    }
   ],
   "source": [
    "%%javascript\n",
    "\n",
    "let age = 17;\n",
    "\n",
    "if (age>=15.5) {\n",
    "    console.log(\"You are old enough to learn how to drive\");\n",
    "    if (age>=16) {\n",
    "        console.log(\"You are old enough to get your drivers license\");\n",
    "    }\n",
    "} else {\n",
    "    console.log(\"You are not old enough to learn how to drive\");\n",
    "}"
   ]
  },
  {
   "cell_type": "markdown",
   "metadata": {},
   "source": [
    "Popcorn Hack 2\n",
    "- When given 'money' variable, check if value is equal to highest, next highest, ..., find first one that is below money val"
   ]
  },
  {
   "cell_type": "code",
   "execution_count": 17,
   "metadata": {},
   "outputs": [
    {
     "name": "stdout",
     "output_type": "stream",
     "text": [
      "you can buy a new game\n"
     ]
    }
   ],
   "source": [
    "money = 25  \n",
    "shoes_price = 30\n",
    "game_price = 20\n",
    "clothes_price = 15\n",
    "\n",
    "if money >= shoes_price:\n",
    "    print(\"You can buy some new shoes\")\n",
    "elif money >= game_price:\n",
    "    print(\"You can buy a new game\")\n",
    "elif money >= clothes_price:\n",
    "    print(\"You can buy some new clothes\")\n",
    "else:\n",
    "    print(\"You don't have enough money to buy anything\")"
   ]
  },
  {
   "cell_type": "code",
   "execution_count": 18,
   "metadata": {},
   "outputs": [
    {
     "data": {
      "application/javascript": "\nlet money = 25;  \nlet shoesPrice = 30;\nlet gamePrice = 20;\nlet clothesPrice = 15;\n\nif (money >= shoesPrice) {\n    console.log(\"You can buy some new shoes\");\n} else if (money >= gamePrice) {\n    console.log(\"You can buy a new game\");\n} else if (money >= clothesPrice) {\n    console.log(\"You can buy some new clothes\");\n} else {\n    console.log(\"You don't have enough money to buy anything\");\n}\n",
      "text/plain": [
       "<IPython.core.display.Javascript object>"
      ]
     },
     "metadata": {},
     "output_type": "display_data"
    }
   ],
   "source": [
    "%%javascript\n",
    "\n",
    "let money = 25;  \n",
    "let shoesPrice = 30;\n",
    "let gamePrice = 20;\n",
    "let clothesPrice = 15;\n",
    "\n",
    "if (money >= shoesPrice) {\n",
    "    console.log(\"You can buy some new shoes\");\n",
    "} else if (money >= gamePrice) {\n",
    "    console.log(\"You can buy a new game\");\n",
    "} else if (money >= clothesPrice) {\n",
    "    console.log(\"You can buy some new clothes\");\n",
    "} else {\n",
    "    console.log(\"You don't have enough money to buy anything\");\n",
    "}"
   ]
  },
  {
   "cell_type": "markdown",
   "metadata": {},
   "source": [
    "Popcorn Hack 3\n",
    "- Same as popcorn hack 1, but using boolean variables instead for branching conditionals"
   ]
  },
  {
   "cell_type": "code",
   "execution_count": null,
   "metadata": {},
   "outputs": [],
   "source": [
    "%%javascript\n",
    "\n",
    "let hungry = True;\n",
    "let has_money = True;\n",
    "\n",
    "if (hungry) {\n",
    "    console.log(\"You feel like going out to eat something\")\n",
    "    if has_money {\n",
    "        console.log(\"You can afford food\")\n",
    "    } else {\n",
    "        console.log(\"You can't afford food\")\n",
    "    }\n",
    "} else {\n",
    "    console.log(\"You aren't hungry\")\n",
    "}"
   ]
  },
  {
   "cell_type": "markdown",
   "metadata": {},
   "source": [
    "Homework\n",
    "- Checking two comparative expressions at same time with AND logical operator"
   ]
  },
  {
   "cell_type": "code",
   "execution_count": 24,
   "metadata": {},
   "outputs": [
    {
     "name": "stdout",
     "output_type": "stream",
     "text": [
      "You are in the '8 or Older' group.\n"
     ]
    }
   ],
   "source": [
    "age = int(input(\"Enter your age: \"))\n",
    "has_ball = input(\"Do you have a ball? (yes/no): \").strip().lower()\n",
    "\n",
    "if age >= 5 and has_ball == 'yes':\n",
    "    if age < 8:\n",
    "        group = \"Under 8\"\n",
    "    else:\n",
    "        group = \"8 or Older\"\n",
    "\n",
    "    print(f\"You are in the '{group}' group.\")\n",
    "else:\n",
    "    print(\"You are not eligible for a group.\")\n"
   ]
  },
  {
   "cell_type": "markdown",
   "metadata": {},
   "source": [
    "## Summary\n",
    "\n",
    "- I created a notebook containing all my homeworks and popcorn hacks for the big ideas, with links on the TOC and link on index page and a brief desc in my own words describing my codes, showing knowledge of the content\n",
    "- Used in-code comments and frequent explanation of [my codes](https://nighthawkcoders.github.io/portfolio_2025/csp/big-idea/p2/3-10-1), making sure that i am explaining all the methods i am using and what all the things i am teaching does in basic terms\n",
    "- Something i learned was the [list comprehension]({{site.baseurl}}/homeworks#34), before i would usually explicitly write out the loops to do iterating list operations but now i understand how i can condense the code into a single line which does the same thing\n",
    "- I tried to make use of functions more like with the [3.6 homework]({{site.baseurl}}/homeworks#36) and some data abstractions to create my questions and check answers, which is an improvement because before i would have probably just copied the code over and over without using a more efficient method"
   ]
  }
 ],
 "metadata": {
  "kernelspec": {
   "display_name": "venv",
   "language": "python",
   "name": "python3"
  },
  "language_info": {
   "codemirror_mode": {
    "name": "ipython",
    "version": 3
   },
   "file_extension": ".py",
   "mimetype": "text/x-python",
   "name": "python",
   "nbconvert_exporter": "python",
   "pygments_lexer": "ipython3",
   "version": "3.12.3"
  }
 },
 "nbformat": 4,
 "nbformat_minor": 2
}
