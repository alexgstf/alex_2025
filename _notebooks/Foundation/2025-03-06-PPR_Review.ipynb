{
 "cells": [
  {
   "cell_type": "raw",
   "metadata": {
    "vscode": {
     "languageId": "raw"
    }
   },
   "source": [
    "---\n",
    "comments: false\n",
    "layout: post\n",
    "title: PPR Review\n",
    "description: Overview of College Board PPR Requirements\n",
    "---"
   ]
  },
  {
   "cell_type": "markdown",
   "metadata": {},
   "source": [
    "### Procedure:\n",
    "The first program code segment must be a student-developed\n",
    "procedure that:\n",
    "- Defines the procedure’s name and return type (if necessary)\n",
    "- Contains and uses one or more parameters that have an effect on\n",
    "the functionality of the procedure\n",
    "- Implements an algorithm that includes sequencing, selection, and iteration"
   ]
  },
  {
   "cell_type": "code",
   "execution_count": null,
   "metadata": {
    "vscode": {
     "languageId": "javascript"
    }
   },
   "outputs": [],
   "source": [
    "window.changeEmail = async function(email) {\n",
    "    if (!email) {\n",
    "        document.getElementById('email-message').textContent = 'Please enter a valid email.';\n",
    "        return;\n",
    "    }\n",
    "\n",
    "    const emailPattern = /^[^\\s@]+@[^\\s@]+\\.[^\\s@]+$/;\n",
    "    if (!emailPattern.test(email)) {\n",
    "        document.getElementById('email-message').textContent = 'Invalid email format.';\n",
    "        return;\n",
    "    }\n",
    "\n",
    "    const URL = pythonURI + \"/api/user\";\n",
    "    const options = {\n",
    "        URL,\n",
    "        body: { email },\n",
    "        message: 'email-message',\n",
    "        callback: async () => {\n",
    "            console.log('Email updated successfully!');\n",
    "            window.updateEmailField(email);\n",
    "            await fetchUserProfile();\n",
    "        }\n",
    "    };\n",
    "\n",
    "    let attempts = 0;\n",
    "    const maxAttempts = 3;\n",
    "\n",
    "    while (attempts < maxAttempts) {\n",
    "        try {\n",
    "            await putUpdate(options);\n",
    "            console.log(`Attempt ${attempts + 1}: Email updated successfully.`);\n",
    "            break;\n",
    "        } catch (error) {\n",
    "            attempts++;\n",
    "            console.error(`Attempt ${attempts}: Error updating Email - ${error.message}`);\n",
    "\n",
    "            if (attempts >= maxAttempts) {\n",
    "                document.getElementById('email-message').textContent = \n",
    "                    'Failed to update email after multiple attempts. Please try again later.';\n",
    "            }\n",
    "        }\n",
    "    }\n",
    "};\n"
   ]
  },
  {
   "cell_type": "markdown",
   "metadata": {},
   "source": [
    "### Segment 1 Overview\n",
    "\n",
    "The window.changeEmail function is a student-developed procedure that meets the College Board’s PPR requirements. It defines the **procedure name** (changeEmail) and uses a **parameter** (email) that affects its functionality by determining the new email value. The function implements **sequencing** by following a structured flow: validating the email, setting API options, and making an update request. **Selection** is included through conditional checks that ensure the email is provided and formatted correctly. **Iteration** is implemented with a while loop that retries the API request up to three times in case of failure, ensuring reliability.\n",
    "\n",
    "***\n",
    "\n",
    "The second program code segment must show where your\n",
    "student-developed procedure is being called in your program."
   ]
  },
  {
   "cell_type": "code",
   "execution_count": null,
   "metadata": {
    "vscode": {
     "languageId": "javascript"
    }
   },
   "outputs": [],
   "source": [
    "document.getElementById('newEmail').addEventListener('change', function() {\n",
    "    const email = this.value;\n",
    "    window.changeEmail(email);\n",
    "});"
   ]
  },
  {
   "cell_type": "markdown",
   "metadata": {},
   "source": [
    "### Segment 2 Overview\n",
    "\n",
    "The second code segment demonstrates how the student-developed procedure is called within the program. An **event listener** is attached to the newEmail input field, **triggering** window.changeEmail(email) when the user enters a new email. This call integrates the function into the program’s workflow, allowing the email update process to be executed dynamically when the user interacts with the input field.\n",
    "\n",
    "***\n",
    "\n",
    "### List: \n",
    "Capture and paste two program code segments you developed during the administration of this task that contain a list (or other collection type) being used to manage complexity in your program. \n",
    "\n",
    "The first program code segment must show how data have been stored in the list."
   ]
  },
  {
   "cell_type": "code",
   "execution_count": null,
   "metadata": {},
   "outputs": [],
   "source": [
    "def put(self):\n",
    "    current_user = g.current_user\n",
    "    body = request.get_json()\n",
    "\n",
    "    user_list = []\n",
    "\n",
    "    if current_user.role == 'Admin':\n",
    "        uid = body.get('uid')\n",
    "        if uid is None or uid == current_user.uid:\n",
    "            user = current_user\n",
    "        else:\n",
    "            user = User.query.filter_by(_uid=uid).first()\n",
    "            if user is None:\n",
    "                return {'message': f'User {uid} not found'}, 404\n",
    "    else:\n",
    "        user = current_user\n",
    "\n",
    "    user.update(body)\n",
    "\n",
    "    user_list.append(user.read())\n",
    "\n",
    "    return jsonify(user_list)\n"
   ]
  },
  {
   "cell_type": "markdown",
   "metadata": {},
   "source": [
    "### Segment 3 Overview\n",
    "\n",
    "The Python put function stores data in a list (user_list), fulfilling the requirement of using a **collection** to manage complexity. After retrieving and updating a user’s information, the updated user data is **appended** to user_list. This allows for structured storage of user information, making it easier to **manage** and return multiple user records if needed. Instead of handling a single object, the list format provides scalability and flexibility in the program’s data management.\n",
    "\n",
    "***\n",
    "\n",
    "The second program code segment must show the data in the same list being used, such as creating new data from the existing data or accessing multiple elements in the list, as part of fulfilling the program’s purpose."
   ]
  },
  {
   "cell_type": "code",
   "execution_count": null,
   "metadata": {
    "vscode": {
     "languageId": "javascript"
    }
   },
   "outputs": [],
   "source": [
    "window.emailHistory = [];\n",
    "\n",
    "window.updateEmailField = function(newEmail) {\n",
    "    const emailInput = document.getElementById('newEmail');\n",
    "    emailInput.value = newEmail;\n",
    "    emailInput.placeholder = newEmail;\n",
    "\n",
    "    window.emailHistory.push(newEmail);\n",
    "\n",
    "    console.log(\"Email update history:\", window.emailHistory);\n",
    "};\n"
   ]
  },
  {
   "cell_type": "markdown",
   "metadata": {},
   "source": [
    "### Segment 4 Overview\n",
    "\n",
    "The window.emailHistory list is used to **store and retrieve** multiple email updates, managing complexity by keeping track of all past email changes. Every time a new email is entered, it is added to emailHistory, allowing the program to **log and reference** previous updates. This approach enables functionality such as displaying email history or undoing changes, demonstrating how the list is **actively used** to support the program’s purpose."
   ]
  }
 ],
 "metadata": {
  "language_info": {
   "name": "python"
  }
 },
 "nbformat": 4,
 "nbformat_minor": 2
}
